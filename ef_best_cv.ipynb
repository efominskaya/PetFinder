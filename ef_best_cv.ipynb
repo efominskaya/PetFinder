{
 "cells": [
  {
   "cell_type": "markdown",
   "metadata": {},
   "source": [
    "#  Pets adoption competition\n",
    "(by Elena Fominskaya)\n",
    "\n",
    "2019\n",
    "\n",
    "\n",
    "## Submit notebook"
   ]
  },
  {
   "cell_type": "code",
   "execution_count": 72,
   "metadata": {
    "_cell_guid": "b1076dfc-b9ad-4769-8c92-a6c4dae69d19",
    "_uuid": "8f2839f25d086af736a60e9eeb907d3b93b6e0e5"
   },
   "outputs": [],
   "source": [
    "import gc\n",
    "import glob\n",
    "import os\n",
    "import json\n",
    "import matplotlib.pyplot as plt\n",
    "\n",
    "import pprint\n",
    "import warnings\n",
    "\n",
    "import numpy as np\n",
    "import pandas as pd\n",
    "import seaborn as sns\n",
    "\n",
    "from sklearn.feature_extraction.text import TfidfVectorizer\n",
    "from sklearn.decomposition import TruncatedSVD\n",
    "from joblib import Parallel, delayed\n",
    "\n",
    "from sklearn.linear_model import Ridge, RidgeClassifier\n",
    "\n",
    "import cv2\n",
    "\n",
    "from keras.applications.densenet import preprocess_input, DenseNet121\n",
    "from keras.models import Model\n",
    "from keras.layers import GlobalAveragePooling2D, Input, Lambda, AveragePooling1D\n",
    "import keras.backend as K\n",
    "\n",
    "from sklearn.base import BaseEstimator, ClassifierMixin\n",
    "\n",
    "from sklearn.model_selection import cross_val_predict\n",
    "from sklearn.preprocessing import StandardScaler, LabelBinarizer, MinMaxScaler\n",
    "from sklearn.model_selection import train_test_split, KFold, StratifiedKFold\n",
    "from sklearn import linear_model, metrics\n",
    "from multiprocessing import Pool\n",
    "\n",
    "import scipy as sp\n",
    "\n",
    "from collections import Counter\n",
    "from functools import partial\n",
    "from math import sqrt\n",
    "\n",
    "from sklearn.metrics import cohen_kappa_score, mean_squared_error\n",
    "from sklearn.metrics import confusion_matrix as sk_cmatrix\n",
    "import lightgbm as lgb\n",
    "\n",
    "%matplotlib inline\n",
    "\n",
    "np.random.seed(seed=300)\n",
    "warnings.filterwarnings('ignore')\n",
    "\n",
    "split_char = '/'\n",
    "\n",
    "SUBMiT = True\n",
    "ONLY1 = True\n",
    "n_splits = 5\n",
    "n_comp = 32"
   ]
  },
  {
   "cell_type": "code",
   "execution_count": 2,
   "metadata": {
    "_cell_guid": "79c7e3d0-c299-4dcb-8224-4455121ee9b0",
    "_uuid": "d629ff2d2480ee46fbb7e2d37f6b5fab8052498a"
   },
   "outputs": [
    {
     "data": {
      "text/plain": [
       "['.DS_Store',\n",
       " 'densenet-keras',\n",
       " 'petfinder-adoption-prediction',\n",
       " 'sample_submission.csv',\n",
       " 'test.csv',\n",
       " 'train.csv',\n",
       " 'vgg-keras']"
      ]
     },
     "execution_count": 2,
     "metadata": {},
     "output_type": "execute_result"
    }
   ],
   "source": [
    "os.listdir('../input')"
   ]
  },
  {
   "cell_type": "code",
   "execution_count": 3,
   "metadata": {
    "_uuid": "24a6811e5b612c3d2aef6639f577dd10f2564be4"
   },
   "outputs": [],
   "source": [
    "train = pd.read_csv('../input/petfinder-adoption-prediction/train/train.csv')\n",
    "test = pd.read_csv('../input/petfinder-adoption-prediction/test/test.csv')\n",
    "sample_submission = pd.read_csv('../input/petfinder-adoption-prediction/test/sample_submission.csv')"
   ]
  },
  {
   "cell_type": "code",
   "execution_count": 19,
   "metadata": {
    "_uuid": "4f9b7e7448cf529274068977bb309435ab605889"
   },
   "outputs": [],
   "source": [
    "labels_breed = pd.read_csv('../input/petfinder-adoption-prediction/breed_labels.csv')\n",
    "labels_state = pd.read_csv('../input/petfinder-adoption-prediction/color_labels.csv')\n",
    "labels_color = pd.read_csv('../input/petfinder-adoption-prediction/state_labels.csv')"
   ]
  },
  {
   "cell_type": "code",
   "execution_count": 4,
   "metadata": {},
   "outputs": [],
   "source": [
    "splits = list(StratifiedKFold(n_splits=n_splits, \n",
    "                                  shuffle=True, \n",
    "                                  random_state=1337).split(train, train['AdoptionSpeed'].values))\n",
    "encod_splits = list(StratifiedKFold(n_splits=n_splits*2, \n",
    "                                  shuffle=True, \n",
    "                                  random_state=1337).split(train, train['AdoptionSpeed'].values))"
   ]
  },
  {
   "cell_type": "code",
   "execution_count": 5,
   "metadata": {
    "_uuid": "3498274ff28da746aafee11a3edd2888787fda9b"
   },
   "outputs": [],
   "source": [
    "def confusion_matrix(rater_a, rater_b, min_rating=None, max_rating=None):\n",
    "    \"\"\"\n",
    "    Returns the confusion matrix between rater's ratings\n",
    "    \"\"\"\n",
    "    assert(len(rater_a) == len(rater_b))\n",
    "    if min_rating is None:\n",
    "        min_rating = min(rater_a + rater_b)\n",
    "    if max_rating is None:\n",
    "        max_rating = max(rater_a + rater_b)\n",
    "    num_ratings = int(max_rating - min_rating + 1)\n",
    "    conf_mat = [[0 for i in range(num_ratings)]\n",
    "                for j in range(num_ratings)]\n",
    "    for a, b in zip(rater_a, rater_b):\n",
    "        conf_mat[a - min_rating][b - min_rating] += 1\n",
    "    return conf_mat\n",
    "\n",
    "\n",
    "def histogram(ratings, min_rating=None, max_rating=None):\n",
    "    \"\"\"\n",
    "    Returns the counts of each type of rating that a rater made\n",
    "    \"\"\"\n",
    "    if min_rating is None:\n",
    "        min_rating = min(ratings)\n",
    "    if max_rating is None:\n",
    "        max_rating = max(ratings)\n",
    "    num_ratings = int(max_rating - min_rating + 1)\n",
    "    hist_ratings = [0 for x in range(num_ratings)]\n",
    "    for r in ratings:\n",
    "        hist_ratings[r - min_rating] += 1\n",
    "    return hist_ratings\n",
    "\n",
    "\n",
    "def quadratic_weighted_kappa(y, y_pred):\n",
    "    rater_a = y\n",
    "    rater_b = y_pred\n",
    "    min_rating=None\n",
    "    max_rating=None\n",
    "    rater_a = np.array(rater_a, dtype=int)\n",
    "    rater_b = np.array(rater_b, dtype=int)\n",
    "    assert(len(rater_a) == len(rater_b))\n",
    "    if min_rating is None:\n",
    "        min_rating = min(min(rater_a), min(rater_b))\n",
    "    if max_rating is None:\n",
    "        max_rating = max(max(rater_a), max(rater_b))\n",
    "    conf_mat = confusion_matrix(rater_a, rater_b,\n",
    "                                min_rating, max_rating)\n",
    "    num_ratings = len(conf_mat)\n",
    "    num_scored_items = float(len(rater_a))\n",
    "\n",
    "    hist_rater_a = histogram(rater_a, min_rating, max_rating)\n",
    "    hist_rater_b = histogram(rater_b, min_rating, max_rating)\n",
    "\n",
    "    numerator = 0.0\n",
    "    denominator = 0.0\n",
    "\n",
    "    for i in range(num_ratings):\n",
    "        for j in range(num_ratings):\n",
    "            expected_count = (hist_rater_a[i] * hist_rater_b[j]\n",
    "                              / num_scored_items)\n",
    "            d = pow(i - j, 2.0) / pow(num_ratings - 1, 2.0)\n",
    "            numerator += d * conf_mat[i][j] / num_scored_items\n",
    "            denominator += d * expected_count / num_scored_items\n",
    "\n",
    "    return (1.0 - numerator / denominator)\n",
    "\n",
    "class OptimizedRounder_v3(object):\n",
    "    def __init__(self):\n",
    "        self.coef_ = 0\n",
    "    \n",
    "    def _kappa_loss(self, coef, X, y):\n",
    "        preds = pd.cut(X, [-np.inf] + list(np.sort(coef)) + [np.inf], labels = [0, 1, 2, 3, 4])\n",
    "        return -cohen_kappa_score(y, preds, weights = 'quadratic')\n",
    "    \n",
    "    def fit(self, X, y):\n",
    "        Xsort = np.sort(X)\n",
    "        ysort = np.sort(y)\n",
    "        bounds = []\n",
    "        for ibound in range(5-1):\n",
    "            iy = len(ysort[ysort <= ibound])\n",
    "            bounds.append(Xsort[iy])\n",
    "        loss_partial = partial(self._kappa_loss, X = X, y = y)\n",
    "        initial_coef = bounds #[0.5, 1.5, 2.5, 3.5]\n",
    "        self.coef_ = sp.optimize.minimize(loss_partial, initial_coef, method = 'nelder-mead')\n",
    "    \n",
    "    def predict(self, X, coef):\n",
    "        preds = pd.cut(X, [-np.inf] + list(np.sort(coef)) + [np.inf], labels = [0, 1, 2, 3, 4])\n",
    "        return preds\n",
    "    \n",
    "    def coefficients(self):\n",
    "        return self.coef_ ['x']"
   ]
  },
  {
   "cell_type": "markdown",
   "metadata": {
    "_uuid": "052af9faacdccaa34191d06da2f13f73417dd628"
   },
   "source": [
    "# Extract features from profile images"
   ]
  },
  {
   "cell_type": "code",
   "execution_count": 6,
   "metadata": {
    "_uuid": "71def76c69445cd7d42cb8450483220e63438dee"
   },
   "outputs": [],
   "source": [
    "def resize_to_square(im):\n",
    "    old_size = im.shape[:2]\n",
    "    ratio = float(img_size)/max(old_size)\n",
    "    new_size = tuple([int(x*ratio) for x in old_size])\n",
    "    im = cv2.resize(im, (new_size[1], new_size[0]))\n",
    "    delta_w = img_size - new_size[1]\n",
    "    delta_h = img_size - new_size[0]\n",
    "    top, bottom = delta_h//2, delta_h-(delta_h//2)\n",
    "    left, right = delta_w//2, delta_w-(delta_w//2)\n",
    "    color = [0, 0, 0]\n",
    "    new_im = cv2.copyMakeBorder(im, top, bottom, left, right, cv2.BORDER_CONSTANT,value=color)\n",
    "    return new_im\n",
    "\n",
    "def load_image(path, file):\n",
    "    image = cv2.imread(f'{path}{file}')\n",
    "    new_image = resize_to_square(image)\n",
    "    new_image = preprocess_input(new_image)\n",
    "    return new_image"
   ]
  },
  {
   "cell_type": "code",
   "execution_count": 7,
   "metadata": {
    "_uuid": "8505c12860cf4a4ca4f74a04b9fe0c8db8b2222e"
   },
   "outputs": [],
   "source": [
    "img_size = 256\n",
    "batch_size = 32"
   ]
  },
  {
   "cell_type": "code",
   "execution_count": 8,
   "metadata": {
    "_uuid": "73b44c6c68421de8fb39f91342660c57e6ef4c2c"
   },
   "outputs": [],
   "source": [
    "if SUBMiT:\n",
    "    inp = Input((256,256,3))\n",
    "    backbone = DenseNet121(input_tensor = inp, \n",
    "                           weights=\"../input/densenet-keras/DenseNet-BC-121-32-no-top.h5\",\n",
    "                           include_top = False)\n",
    "    x = backbone.output\n",
    "    x = GlobalAveragePooling2D()(x)\n",
    "    x = Lambda(lambda x: K.expand_dims(x,axis = -1))(x)\n",
    "    x = AveragePooling1D(4)(x)\n",
    "    out = Lambda(lambda x: x[:,:,0])(x)\n",
    "\n",
    "    m = Model(inp,out)"
   ]
  },
  {
   "cell_type": "code",
   "execution_count": 9,
   "metadata": {},
   "outputs": [
    {
     "name": "stdout",
     "output_type": "stream",
     "text": [
      "CPU times: user 2 µs, sys: 0 ns, total: 2 µs\n",
      "Wall time: 5.01 µs\n"
     ]
    }
   ],
   "source": [
    "%%time\n",
    "if SUBMiT and ONLY1:\n",
    "    def load_image(path, pet_id):\n",
    "        image = cv2.imread(f'{path}{pet_id}-1.jpg')\n",
    "        new_image = resize_to_square(image)\n",
    "        new_image = preprocess_input(new_image)\n",
    "        return new_image\n",
    "\n",
    "    pet_ids = train['PetID'].values\n",
    "    n_batches = len(pet_ids) // batch_size + 1\n",
    "\n",
    "    features = {}\n",
    "    for b in range(n_batches):\n",
    "        start = b*batch_size\n",
    "        end = (b+1)*batch_size\n",
    "        batch_pets = pet_ids[start:end]\n",
    "        batch_images = np.zeros((len(batch_pets),img_size,img_size,3))\n",
    "        for i,pet_id in enumerate(batch_pets):\n",
    "            try:\n",
    "                batch_images[i] = load_image(\"../input/petfinder-adoption-prediction/train_images/\", pet_id)\n",
    "            except:\n",
    "                pass\n",
    "        batch_preds = m.predict(batch_images)\n",
    "        for i,pet_id in enumerate(batch_pets):\n",
    "            features[pet_id] = batch_preds[i]\n",
    "            \n",
    "    train_feats = pd.DataFrame.from_dict(features, orient='index')\n",
    "    train_feats.columns = [f'pic_{i}' for i in range(train_feats.shape[1])]     \n",
    "    \n",
    "    pet_ids = test['PetID'].values\n",
    "    n_batches = len(pet_ids) // batch_size + 1\n",
    "\n",
    "    features = {}\n",
    "    for b in range(n_batches):\n",
    "        start = b*batch_size\n",
    "        end = (b+1)*batch_size\n",
    "        batch_pets = pet_ids[start:end]\n",
    "        batch_images = np.zeros((len(batch_pets),img_size,img_size,3))\n",
    "        for i,pet_id in enumerate(batch_pets):\n",
    "            try:\n",
    "                batch_images[i] = load_image(\"../input/petfinder-adoption-prediction/test_images/\", pet_id)\n",
    "            except:\n",
    "                pass\n",
    "        batch_preds = m.predict(batch_images)\n",
    "        for i,pet_id in enumerate(batch_pets):\n",
    "            features[pet_id] = batch_preds[i]    \n",
    "            \n",
    "    test_feats = pd.DataFrame.from_dict(features, orient='index')\n",
    "    test_feats.columns = [f'pic_{i}' for i in range(test_feats.shape[1])]\n",
    "\n",
    "    train_feats = train_feats.reset_index()\n",
    "    train_feats.rename({'index': 'PetID'}, axis='columns', inplace=True)\n",
    "\n",
    "    test_feats = test_feats.reset_index()\n",
    "    test_feats.rename({'index': 'PetID'}, axis='columns', inplace=True)\n",
    "\n",
    "    all_ids = pd.concat([train, test], axis=0, ignore_index=True, sort=False)[['PetID']]\n",
    "    all_ids.shape"
   ]
  },
  {
   "cell_type": "code",
   "execution_count": 12,
   "metadata": {},
   "outputs": [
    {
     "data": {
      "text/plain": [
       "((58311, 257), (15040, 257))"
      ]
     },
     "execution_count": 12,
     "metadata": {},
     "output_type": "execute_result"
    }
   ],
   "source": [
    "train_feats.shape, test_feats.shape"
   ]
  },
  {
   "cell_type": "code",
   "execution_count": 13,
   "metadata": {},
   "outputs": [
    {
     "data": {
      "text/plain": [
       "((58311, 9), (15040, 9))"
      ]
     },
     "execution_count": 13,
     "metadata": {},
     "output_type": "execute_result"
    }
   ],
   "source": [
    "cols = [f'pic_{i}' for i in range(256)]\n",
    "features_df = pd.concat([train_feats[cols],test_feats[cols]],axis=0)\n",
    "\n",
    "svd = TruncatedSVD(n_components=n_comp, random_state=1337)\n",
    "svd.fit(features_df.values)\n",
    "X = svd.transform(train_feats[cols].values)\n",
    "X = pd.DataFrame(X)\n",
    "\n",
    "X = X.add_prefix('IMG_SVD_')\n",
    "train_svd_feats = pd.concat([X,train_feats['PetID']], axis=1)\n",
    "\n",
    "X_test = svd.transform(test_feats[cols].values)\n",
    "X_test = pd.DataFrame(X_test)\n",
    "X_test = X_test.add_prefix('IMG_SVD_')\n",
    "test_svd_feats = pd.concat([X_test,test_feats['PetID']], axis=1)\n",
    "\n",
    "train_svd_feats.shape, test_svd_feats.shape"
   ]
  },
  {
   "cell_type": "code",
   "execution_count": 14,
   "metadata": {},
   "outputs": [
    {
     "data": {
      "text/html": [
       "<div>\n",
       "<style scoped>\n",
       "    .dataframe tbody tr th:only-of-type {\n",
       "        vertical-align: middle;\n",
       "    }\n",
       "\n",
       "    .dataframe tbody tr th {\n",
       "        vertical-align: top;\n",
       "    }\n",
       "\n",
       "    .dataframe thead th {\n",
       "        text-align: right;\n",
       "    }\n",
       "</style>\n",
       "<table border=\"1\" class=\"dataframe\">\n",
       "  <thead>\n",
       "    <tr style=\"text-align: right;\">\n",
       "      <th></th>\n",
       "      <th>IMG_SVD_0</th>\n",
       "      <th>IMG_SVD_1</th>\n",
       "      <th>IMG_SVD_2</th>\n",
       "      <th>IMG_SVD_3</th>\n",
       "      <th>IMG_SVD_4</th>\n",
       "      <th>IMG_SVD_5</th>\n",
       "      <th>IMG_SVD_6</th>\n",
       "      <th>IMG_SVD_7</th>\n",
       "      <th>PetID</th>\n",
       "    </tr>\n",
       "  </thead>\n",
       "  <tbody>\n",
       "    <tr>\n",
       "      <th>0</th>\n",
       "      <td>8.343090</td>\n",
       "      <td>-2.205993</td>\n",
       "      <td>-1.044169</td>\n",
       "      <td>-0.019520</td>\n",
       "      <td>0.386543</td>\n",
       "      <td>0.424787</td>\n",
       "      <td>-0.462856</td>\n",
       "      <td>-0.042418</td>\n",
       "      <td>0008c5398</td>\n",
       "    </tr>\n",
       "    <tr>\n",
       "      <th>1</th>\n",
       "      <td>9.020251</td>\n",
       "      <td>-2.011501</td>\n",
       "      <td>-0.483274</td>\n",
       "      <td>-0.453309</td>\n",
       "      <td>-0.038329</td>\n",
       "      <td>0.267669</td>\n",
       "      <td>-0.288367</td>\n",
       "      <td>-0.162610</td>\n",
       "      <td>0008c5398</td>\n",
       "    </tr>\n",
       "    <tr>\n",
       "      <th>2</th>\n",
       "      <td>9.260867</td>\n",
       "      <td>-2.088719</td>\n",
       "      <td>-0.680421</td>\n",
       "      <td>-0.158262</td>\n",
       "      <td>-0.494183</td>\n",
       "      <td>0.460680</td>\n",
       "      <td>-0.444492</td>\n",
       "      <td>-0.076958</td>\n",
       "      <td>0008c5398</td>\n",
       "    </tr>\n",
       "    <tr>\n",
       "      <th>3</th>\n",
       "      <td>8.448920</td>\n",
       "      <td>-1.815336</td>\n",
       "      <td>-0.075091</td>\n",
       "      <td>-0.465325</td>\n",
       "      <td>-0.293431</td>\n",
       "      <td>0.418470</td>\n",
       "      <td>-0.750670</td>\n",
       "      <td>0.426511</td>\n",
       "      <td>0008c5398</td>\n",
       "    </tr>\n",
       "    <tr>\n",
       "      <th>4</th>\n",
       "      <td>9.017217</td>\n",
       "      <td>-2.295269</td>\n",
       "      <td>-0.753223</td>\n",
       "      <td>-0.804243</td>\n",
       "      <td>0.083241</td>\n",
       "      <td>0.347591</td>\n",
       "      <td>-0.617576</td>\n",
       "      <td>0.280203</td>\n",
       "      <td>0008c5398</td>\n",
       "    </tr>\n",
       "  </tbody>\n",
       "</table>\n",
       "</div>"
      ],
      "text/plain": [
       "   IMG_SVD_0  IMG_SVD_1  IMG_SVD_2  IMG_SVD_3  IMG_SVD_4  IMG_SVD_5  \\\n",
       "0   8.343090  -2.205993  -1.044169  -0.019520   0.386543   0.424787   \n",
       "1   9.020251  -2.011501  -0.483274  -0.453309  -0.038329   0.267669   \n",
       "2   9.260867  -2.088719  -0.680421  -0.158262  -0.494183   0.460680   \n",
       "3   8.448920  -1.815336  -0.075091  -0.465325  -0.293431   0.418470   \n",
       "4   9.017217  -2.295269  -0.753223  -0.804243   0.083241   0.347591   \n",
       "\n",
       "   IMG_SVD_6  IMG_SVD_7      PetID  \n",
       "0  -0.462856  -0.042418  0008c5398  \n",
       "1  -0.288367  -0.162610  0008c5398  \n",
       "2  -0.444492  -0.076958  0008c5398  \n",
       "3  -0.750670   0.426511  0008c5398  \n",
       "4  -0.617576   0.280203  0008c5398  "
      ]
     },
     "execution_count": 14,
     "metadata": {},
     "output_type": "execute_result"
    }
   ],
   "source": [
    "train_svd_feats.head()"
   ]
  },
  {
   "cell_type": "markdown",
   "metadata": {
    "_uuid": "60d0a0df563b4fabd29a96159492eb69d5854b94"
   },
   "source": [
    "## Aggregate image features via PetID"
   ]
  },
  {
   "cell_type": "code",
   "execution_count": 16,
   "metadata": {
    "_uuid": "6fcf1858f550d128ff076ed1d3c32efb9810ef23"
   },
   "outputs": [],
   "source": [
    "aggregates = ['min', 'max', 'mean']\n",
    "\n",
    "train_img_features_gr = train_svd_feats.groupby(['PetID']).agg(aggregates)\n",
    "train_img_features_gr.columns = pd.Index([f'{c[0]}_{c[1].upper()}' for c in train_img_features_gr.columns.tolist()])\n",
    "train_img_features_gr = train_img_features_gr.reset_index()\n",
    "\n",
    "test_img_features_gr = test_svd_feats.groupby(['PetID']).agg(aggregates)\n",
    "test_img_features_gr.columns = pd.Index([f'{c[0]}_{c[1].upper()}' for c in test_img_features_gr.columns.tolist()])\n",
    "test_img_features_gr = test_img_features_gr.reset_index()"
   ]
  },
  {
   "cell_type": "code",
   "execution_count": 17,
   "metadata": {},
   "outputs": [
    {
     "data": {
      "text/plain": [
       "(3821, 25)"
      ]
     },
     "execution_count": 17,
     "metadata": {},
     "output_type": "execute_result"
    }
   ],
   "source": [
    "test_img_features_gr.shape"
   ]
  },
  {
   "cell_type": "code",
   "execution_count": 18,
   "metadata": {},
   "outputs": [
    {
     "data": {
      "text/html": [
       "<div>\n",
       "<style scoped>\n",
       "    .dataframe tbody tr th:only-of-type {\n",
       "        vertical-align: middle;\n",
       "    }\n",
       "\n",
       "    .dataframe tbody tr th {\n",
       "        vertical-align: top;\n",
       "    }\n",
       "\n",
       "    .dataframe thead th {\n",
       "        text-align: right;\n",
       "    }\n",
       "</style>\n",
       "<table border=\"1\" class=\"dataframe\">\n",
       "  <thead>\n",
       "    <tr style=\"text-align: right;\">\n",
       "      <th></th>\n",
       "      <th>PetID</th>\n",
       "      <th>IMG_SVD_0_MIN</th>\n",
       "      <th>IMG_SVD_0_MAX</th>\n",
       "      <th>IMG_SVD_0_MEAN</th>\n",
       "      <th>IMG_SVD_1_MIN</th>\n",
       "      <th>IMG_SVD_1_MAX</th>\n",
       "      <th>IMG_SVD_1_MEAN</th>\n",
       "      <th>IMG_SVD_2_MIN</th>\n",
       "      <th>IMG_SVD_2_MAX</th>\n",
       "      <th>IMG_SVD_2_MEAN</th>\n",
       "      <th>...</th>\n",
       "      <th>IMG_SVD_4_MEAN</th>\n",
       "      <th>IMG_SVD_5_MIN</th>\n",
       "      <th>IMG_SVD_5_MAX</th>\n",
       "      <th>IMG_SVD_5_MEAN</th>\n",
       "      <th>IMG_SVD_6_MIN</th>\n",
       "      <th>IMG_SVD_6_MAX</th>\n",
       "      <th>IMG_SVD_6_MEAN</th>\n",
       "      <th>IMG_SVD_7_MIN</th>\n",
       "      <th>IMG_SVD_7_MAX</th>\n",
       "      <th>IMG_SVD_7_MEAN</th>\n",
       "    </tr>\n",
       "  </thead>\n",
       "  <tbody>\n",
       "    <tr>\n",
       "      <th>0</th>\n",
       "      <td>000c21f80</td>\n",
       "      <td>8.266394</td>\n",
       "      <td>8.992180</td>\n",
       "      <td>8.679969</td>\n",
       "      <td>-1.839708</td>\n",
       "      <td>-1.378864</td>\n",
       "      <td>-1.627497</td>\n",
       "      <td>-1.315016</td>\n",
       "      <td>0.508117</td>\n",
       "      <td>-0.576161</td>\n",
       "      <td>...</td>\n",
       "      <td>-0.129958</td>\n",
       "      <td>-0.456167</td>\n",
       "      <td>0.162809</td>\n",
       "      <td>-0.048228</td>\n",
       "      <td>-0.427921</td>\n",
       "      <td>0.104698</td>\n",
       "      <td>-0.109869</td>\n",
       "      <td>-0.463169</td>\n",
       "      <td>1.001961</td>\n",
       "      <td>0.052472</td>\n",
       "    </tr>\n",
       "    <tr>\n",
       "      <th>1</th>\n",
       "      <td>001d503e8</td>\n",
       "      <td>8.593082</td>\n",
       "      <td>8.593082</td>\n",
       "      <td>8.593082</td>\n",
       "      <td>-1.897559</td>\n",
       "      <td>-1.897559</td>\n",
       "      <td>-1.897559</td>\n",
       "      <td>0.636667</td>\n",
       "      <td>0.636667</td>\n",
       "      <td>0.636667</td>\n",
       "      <td>...</td>\n",
       "      <td>-0.034670</td>\n",
       "      <td>0.284392</td>\n",
       "      <td>0.284392</td>\n",
       "      <td>0.284392</td>\n",
       "      <td>0.040738</td>\n",
       "      <td>0.040738</td>\n",
       "      <td>0.040738</td>\n",
       "      <td>-0.287882</td>\n",
       "      <td>-0.287882</td>\n",
       "      <td>-0.287882</td>\n",
       "    </tr>\n",
       "    <tr>\n",
       "      <th>2</th>\n",
       "      <td>001ec8d5b</td>\n",
       "      <td>8.417737</td>\n",
       "      <td>10.644456</td>\n",
       "      <td>9.385986</td>\n",
       "      <td>-2.095926</td>\n",
       "      <td>0.620584</td>\n",
       "      <td>-0.867936</td>\n",
       "      <td>-0.149678</td>\n",
       "      <td>0.963932</td>\n",
       "      <td>0.417218</td>\n",
       "      <td>...</td>\n",
       "      <td>-0.133897</td>\n",
       "      <td>-0.344843</td>\n",
       "      <td>0.588339</td>\n",
       "      <td>0.161594</td>\n",
       "      <td>-0.202701</td>\n",
       "      <td>0.728832</td>\n",
       "      <td>0.318508</td>\n",
       "      <td>-1.680404</td>\n",
       "      <td>0.305559</td>\n",
       "      <td>-0.523323</td>\n",
       "    </tr>\n",
       "    <tr>\n",
       "      <th>3</th>\n",
       "      <td>002d58f95</td>\n",
       "      <td>7.562668</td>\n",
       "      <td>9.731317</td>\n",
       "      <td>8.957210</td>\n",
       "      <td>-2.213350</td>\n",
       "      <td>0.550802</td>\n",
       "      <td>-0.834804</td>\n",
       "      <td>0.145010</td>\n",
       "      <td>1.164042</td>\n",
       "      <td>0.661752</td>\n",
       "      <td>...</td>\n",
       "      <td>-0.412701</td>\n",
       "      <td>-0.916470</td>\n",
       "      <td>0.666224</td>\n",
       "      <td>-0.475506</td>\n",
       "      <td>-0.634505</td>\n",
       "      <td>0.578075</td>\n",
       "      <td>0.141526</td>\n",
       "      <td>-0.404873</td>\n",
       "      <td>1.274214</td>\n",
       "      <td>0.155557</td>\n",
       "    </tr>\n",
       "    <tr>\n",
       "      <th>4</th>\n",
       "      <td>004682b50</td>\n",
       "      <td>7.477994</td>\n",
       "      <td>9.548469</td>\n",
       "      <td>8.487201</td>\n",
       "      <td>0.431526</td>\n",
       "      <td>1.470680</td>\n",
       "      <td>0.970240</td>\n",
       "      <td>-1.797397</td>\n",
       "      <td>0.418308</td>\n",
       "      <td>-0.918473</td>\n",
       "      <td>...</td>\n",
       "      <td>0.158515</td>\n",
       "      <td>-0.322247</td>\n",
       "      <td>0.331555</td>\n",
       "      <td>-0.045564</td>\n",
       "      <td>-0.378168</td>\n",
       "      <td>0.594061</td>\n",
       "      <td>0.056038</td>\n",
       "      <td>-1.039991</td>\n",
       "      <td>-0.899930</td>\n",
       "      <td>-0.960168</td>\n",
       "    </tr>\n",
       "  </tbody>\n",
       "</table>\n",
       "<p>5 rows × 25 columns</p>\n",
       "</div>"
      ],
      "text/plain": [
       "       PetID  IMG_SVD_0_MIN  IMG_SVD_0_MAX  IMG_SVD_0_MEAN  IMG_SVD_1_MIN  \\\n",
       "0  000c21f80       8.266394       8.992180        8.679969      -1.839708   \n",
       "1  001d503e8       8.593082       8.593082        8.593082      -1.897559   \n",
       "2  001ec8d5b       8.417737      10.644456        9.385986      -2.095926   \n",
       "3  002d58f95       7.562668       9.731317        8.957210      -2.213350   \n",
       "4  004682b50       7.477994       9.548469        8.487201       0.431526   \n",
       "\n",
       "   IMG_SVD_1_MAX  IMG_SVD_1_MEAN  IMG_SVD_2_MIN  IMG_SVD_2_MAX  \\\n",
       "0      -1.378864       -1.627497      -1.315016       0.508117   \n",
       "1      -1.897559       -1.897559       0.636667       0.636667   \n",
       "2       0.620584       -0.867936      -0.149678       0.963932   \n",
       "3       0.550802       -0.834804       0.145010       1.164042   \n",
       "4       1.470680        0.970240      -1.797397       0.418308   \n",
       "\n",
       "   IMG_SVD_2_MEAN       ...        IMG_SVD_4_MEAN  IMG_SVD_5_MIN  \\\n",
       "0       -0.576161       ...             -0.129958      -0.456167   \n",
       "1        0.636667       ...             -0.034670       0.284392   \n",
       "2        0.417218       ...             -0.133897      -0.344843   \n",
       "3        0.661752       ...             -0.412701      -0.916470   \n",
       "4       -0.918473       ...              0.158515      -0.322247   \n",
       "\n",
       "   IMG_SVD_5_MAX  IMG_SVD_5_MEAN  IMG_SVD_6_MIN  IMG_SVD_6_MAX  \\\n",
       "0       0.162809       -0.048228      -0.427921       0.104698   \n",
       "1       0.284392        0.284392       0.040738       0.040738   \n",
       "2       0.588339        0.161594      -0.202701       0.728832   \n",
       "3       0.666224       -0.475506      -0.634505       0.578075   \n",
       "4       0.331555       -0.045564      -0.378168       0.594061   \n",
       "\n",
       "   IMG_SVD_6_MEAN  IMG_SVD_7_MIN  IMG_SVD_7_MAX  IMG_SVD_7_MEAN  \n",
       "0       -0.109869      -0.463169       1.001961        0.052472  \n",
       "1        0.040738      -0.287882      -0.287882       -0.287882  \n",
       "2        0.318508      -1.680404       0.305559       -0.523323  \n",
       "3        0.141526      -0.404873       1.274214        0.155557  \n",
       "4        0.056038      -1.039991      -0.899930       -0.960168  \n",
       "\n",
       "[5 rows x 25 columns]"
      ]
     },
     "execution_count": 18,
     "metadata": {},
     "output_type": "execute_result"
    }
   ],
   "source": [
    "test_img_features_gr.head()"
   ]
  },
  {
   "cell_type": "markdown",
   "metadata": {
    "_uuid": "a0826a13e23571c6685c568d4f99b3fa5512282a"
   },
   "source": [
    "# Load metadatas and sentiment datas"
   ]
  },
  {
   "cell_type": "code",
   "execution_count": 20,
   "metadata": {
    "_uuid": "c3399c9ff73a9dd37cecb657cc26e90b934f67df"
   },
   "outputs": [
    {
     "name": "stdout",
     "output_type": "stream",
     "text": [
      "num of train images files: 58311\n",
      "num of train metadata files: 58311\n",
      "num of train sentiment files: 14442\n",
      "num of test images files: 15040\n",
      "num of test metadata files: 15040\n",
      "num of test sentiment files: 3815\n"
     ]
    }
   ],
   "source": [
    "train_image_files = sorted(glob.glob('../input/petfinder-adoption-prediction/train_images/*.jpg'))\n",
    "train_metadata_files = sorted(glob.glob('../input/petfinder-adoption-prediction/train_metadata/*.json'))\n",
    "train_sentiment_files = sorted(glob.glob('../input/petfinder-adoption-prediction/train_sentiment/*.json'))\n",
    "\n",
    "print(f'num of train images files: {len(train_image_files)}')\n",
    "print(f'num of train metadata files: {len(train_metadata_files)}')\n",
    "print(f'num of train sentiment files: {len(train_sentiment_files)}')\n",
    "\n",
    "\n",
    "test_image_files = sorted(glob.glob('../input/petfinder-adoption-prediction/test_images/*.jpg'))\n",
    "test_metadata_files = sorted(glob.glob('../input/petfinder-adoption-prediction/test_metadata/*.json'))\n",
    "test_sentiment_files = sorted(glob.glob('../input/petfinder-adoption-prediction/test_sentiment/*.json'))\n",
    "\n",
    "print(f'num of test images files: {len(test_image_files)}')\n",
    "print(f'num of test metadata files: {len(test_metadata_files)}')\n",
    "print(f'num of test sentiment files: {len(test_sentiment_files)}')"
   ]
  },
  {
   "cell_type": "markdown",
   "metadata": {
    "_uuid": "5a74b43503752f801202ba62495d47836f8704c9"
   },
   "source": [
    "### Train"
   ]
  },
  {
   "cell_type": "code",
   "execution_count": 21,
   "metadata": {
    "_uuid": "bc13e1b9227cc808bcba7204e7fd499c597b1796"
   },
   "outputs": [
    {
     "name": "stdout",
     "output_type": "stream",
     "text": [
      "(14993, 1)\n",
      "14652\n",
      "fraction of pets with metadata: 0.977\n",
      "14442\n",
      "fraction of pets with sentiment: 0.963\n"
     ]
    }
   ],
   "source": [
    "# Images:\n",
    "train_df_ids = train[['PetID']]\n",
    "print(train_df_ids.shape)\n",
    "\n",
    "# Metadata:\n",
    "train_df_ids = train[['PetID']]\n",
    "train_df_metadata = pd.DataFrame(train_metadata_files)\n",
    "train_df_metadata.columns = ['metadata_filename']\n",
    "train_metadata_pets = train_df_metadata['metadata_filename'].apply(lambda x: x.split(split_char)[-1].split('-')[0])\n",
    "train_df_metadata = train_df_metadata.assign(PetID=train_metadata_pets)\n",
    "print(len(train_metadata_pets.unique()))\n",
    "\n",
    "pets_with_metadatas = len(np.intersect1d(train_metadata_pets.unique(), train_df_ids['PetID'].unique()))\n",
    "print(f'fraction of pets with metadata: {pets_with_metadatas / train_df_ids.shape[0]:.3f}')\n",
    "\n",
    "# Sentiment:\n",
    "train_df_ids = train[['PetID']]\n",
    "train_df_sentiment = pd.DataFrame(train_sentiment_files)\n",
    "train_df_sentiment.columns = ['sentiment_filename']\n",
    "train_sentiment_pets = train_df_sentiment['sentiment_filename'].apply(lambda x: x.split(split_char)[-1].split('.')[0])\n",
    "train_df_sentiment = train_df_sentiment.assign(PetID=train_sentiment_pets)\n",
    "print(len(train_sentiment_pets.unique()))\n",
    "\n",
    "pets_with_sentiments = len(np.intersect1d(train_sentiment_pets.unique(), train_df_ids['PetID'].unique()))\n",
    "print(f'fraction of pets with sentiment: {pets_with_sentiments / train_df_ids.shape[0]:.3f}')"
   ]
  },
  {
   "cell_type": "markdown",
   "metadata": {
    "_uuid": "828ef0c92408c1b67a0f3c80efe608792a43837d"
   },
   "source": [
    "### Test"
   ]
  },
  {
   "cell_type": "code",
   "execution_count": 22,
   "metadata": {
    "_uuid": "514c3f5a3d8bf6b396425d1693f5491e874f4cc0"
   },
   "outputs": [
    {
     "name": "stdout",
     "output_type": "stream",
     "text": [
      "(3948, 1)\n",
      "3821\n",
      "fraction of pets with metadata: 0.968\n",
      "3815\n",
      "fraction of pets with sentiment: 0.966\n"
     ]
    }
   ],
   "source": [
    "# Images:\n",
    "test_df_ids = test[['PetID']]\n",
    "print(test_df_ids.shape)\n",
    "\n",
    "# Metadata:\n",
    "test_df_metadata = pd.DataFrame(test_metadata_files)\n",
    "test_df_metadata.columns = ['metadata_filename']\n",
    "test_metadata_pets = test_df_metadata['metadata_filename'].apply(\n",
    "    lambda x: x.split(split_char)[-1].split('-')[0])\n",
    "test_df_metadata = test_df_metadata.assign(PetID=test_metadata_pets)\n",
    "print(len(test_metadata_pets.unique()))\n",
    "\n",
    "pets_with_metadatas = len(np.intersect1d(\n",
    "    test_metadata_pets.unique(), test_df_ids['PetID'].unique()))\n",
    "print(f'fraction of pets with metadata: {pets_with_metadatas / test_df_ids.shape[0]:.3f}')\n",
    "\n",
    "# Sentiment:\n",
    "test_df_sentiment = pd.DataFrame(test_sentiment_files)\n",
    "test_df_sentiment.columns = ['sentiment_filename']\n",
    "test_sentiment_pets = test_df_sentiment['sentiment_filename'].apply(\n",
    "    lambda x: x.split(split_char)[-1].split('.')[0])\n",
    "test_df_sentiment = test_df_sentiment.assign(PetID=test_sentiment_pets)\n",
    "print(len(test_sentiment_pets.unique()))\n",
    "\n",
    "pets_with_sentiments = len(np.intersect1d(test_sentiment_pets.unique(), test_df_ids['PetID'].unique()))\n",
    "print(f'fraction of pets with sentiment: {pets_with_sentiments / test_df_ids.shape[0]:.3f}')"
   ]
  },
  {
   "cell_type": "markdown",
   "metadata": {
    "_uuid": "d643202fbad8b9d04409c296148ae533eba2235e"
   },
   "source": [
    "## Extract features from json files"
   ]
  },
  {
   "cell_type": "code",
   "execution_count": 23,
   "metadata": {
    "_uuid": "f2c3c16c681f5729dd737659346dc1ece81f1490"
   },
   "outputs": [],
   "source": [
    "class PetFinderParser(object):\n",
    "    \n",
    "    def __init__(self, debug=False):\n",
    "        \n",
    "        self.debug = debug\n",
    "        self.sentence_sep = ' '\n",
    "        \n",
    "        self.extract_sentiment_text = False\n",
    "    \n",
    "    def open_json_file(self, filename):\n",
    "        with open(filename, 'r', encoding='utf-8') as f:\n",
    "            json_file = json.load(f)\n",
    "        return json_file\n",
    "        \n",
    "    def parse_sentiment_file(self, file):\n",
    "        \"\"\"\n",
    "        Parse sentiment file. Output DF with sentiment features.\n",
    "        \"\"\"\n",
    "        \n",
    "        file_sentiment = file['documentSentiment']\n",
    "        file_entities = [x['name'] for x in file['entities']]\n",
    "        file_entities = self.sentence_sep.join(file_entities)\n",
    "        \n",
    "        file_sentences_sentiment = [x['sentiment'] for x in file['sentences']]\n",
    "        \n",
    "        file_sentences_sentiment = pd.DataFrame.from_dict(\n",
    "            file_sentences_sentiment, orient='columns')\n",
    "        file_sentences_sentiment_df = pd.DataFrame(\n",
    "            {\n",
    "                'magnitude_sum': file_sentences_sentiment['magnitude'].sum(axis=0),\n",
    "                'score_sum': file_sentences_sentiment['score'].sum(axis=0),\n",
    "                'magnitude_mean': file_sentences_sentiment['magnitude'].mean(axis=0),\n",
    "                'score_mean': file_sentences_sentiment['score'].mean(axis=0),\n",
    "                'magnitude_min': file_sentences_sentiment['magnitude'].min(axis=0),\n",
    "                'score_min': file_sentences_sentiment['score'].min(axis=0),\n",
    "                'magnitude_max': file_sentences_sentiment['magnitude'].max(axis=0),\n",
    "                'score_max': file_sentences_sentiment['score'].max(axis=0),\n",
    "                'magnitude_var': file_sentences_sentiment['magnitude'].var(axis=0),\n",
    "                'score_var': file_sentences_sentiment['score'].var(axis=0),\n",
    "\n",
    "            }, index=[0]\n",
    "        )\n",
    "        \n",
    "        df_sentiment = pd.DataFrame.from_dict(file_sentiment, orient='index').T\n",
    "        df_sentiment = pd.concat([df_sentiment, file_sentences_sentiment_df], axis=1)\n",
    "            \n",
    "        df_sentiment['entities'] = file_entities\n",
    "        df_sentiment = df_sentiment.add_prefix('sentiment_')\n",
    "        \n",
    "        return df_sentiment\n",
    "    \n",
    "    def parse_metadata_file(self, file):\n",
    "        \"\"\"\n",
    "        Parse metadata file. Output DF with metadata features.\n",
    "        \"\"\"\n",
    "        \n",
    "        file_keys = list(file.keys())\n",
    "        \n",
    "        if 'labelAnnotations' in file_keys:\n",
    "            file_annots = file['labelAnnotations']\n",
    "            file_top_score = np.asarray([x['score'] for x in file_annots]).mean()\n",
    "            file_top_desc = [x['description'] for x in file_annots]\n",
    "        else:\n",
    "            file_top_score = np.nan\n",
    "            file_top_desc = ['']\n",
    "        \n",
    "        file_colors = file['imagePropertiesAnnotation']['dominantColors']['colors']\n",
    "\n",
    "        file_color_score = np.asarray([x['score'] for x in file_colors]).mean()\n",
    "        file_color_pixelfrac = np.asarray([x['pixelFraction'] for x in file_colors]).mean()\n",
    "\n",
    "        df_metadata = {\n",
    "            'annots_score': file_top_score,\n",
    "            'color_score': file_color_score,\n",
    "            'color_pixelfrac': file_color_pixelfrac,\n",
    "            'annots_top_desc': self.sentence_sep.join(file_top_desc)\n",
    "        }\n",
    "        \n",
    "        df_metadata = pd.DataFrame.from_dict(df_metadata, orient='index').T\n",
    "        df_metadata = df_metadata.add_prefix('metadata_')\n",
    "        \n",
    "        return df_metadata\n",
    "    \n",
    "def extract_additional_features(pet_id, mode='train'):\n",
    "    \n",
    "    sentiment_filename = f'../input/petfinder-adoption-prediction/{mode}_sentiment/{pet_id}.json'\n",
    "    try:\n",
    "        sentiment_file = pet_parser.open_json_file(sentiment_filename)\n",
    "        df_sentiment = pet_parser.parse_sentiment_file(sentiment_file)\n",
    "        df_sentiment['PetID'] = pet_id\n",
    "    except FileNotFoundError:\n",
    "        df_sentiment = []\n",
    "\n",
    "    dfs_metadata = []\n",
    "    metadata_filenames = sorted(glob.glob(f'../input/petfinder-adoption-prediction/{mode}_metadata/{pet_id}*.json'))\n",
    "    if len(metadata_filenames) > 0:\n",
    "        for f in metadata_filenames:\n",
    "            metadata_file = pet_parser.open_json_file(f)\n",
    "            df_metadata = pet_parser.parse_metadata_file(metadata_file)\n",
    "            df_metadata['PetID'] = pet_id\n",
    "            dfs_metadata.append(df_metadata)\n",
    "        dfs_metadata = pd.concat(dfs_metadata, ignore_index=True)\n",
    "\n",
    "    dfs = [df_sentiment, dfs_metadata]\n",
    "    \n",
    "    return dfs\n",
    "\n",
    "pet_parser = PetFinderParser()"
   ]
  },
  {
   "cell_type": "code",
   "execution_count": 24,
   "metadata": {},
   "outputs": [
    {
     "name": "stdout",
     "output_type": "stream",
     "text": [
      "CPU times: user 3 µs, sys: 0 ns, total: 3 µs\n",
      "Wall time: 5.96 µs\n"
     ]
    }
   ],
   "source": [
    "%%time\n",
    "if  SUBMiT:\n",
    "    train_pet_ids = train.PetID.unique()\n",
    "    test_pet_ids = test.PetID.unique()\n",
    "\n",
    "    dfs_train = Parallel(n_jobs=-1, verbose=1)(\n",
    "        delayed(extract_additional_features)(i, mode='train') for i in train_pet_ids)\n",
    "\n",
    "    train_dfs_sentiment = [x[0] for x in dfs_train if isinstance(x[0], pd.DataFrame)]\n",
    "    train_dfs_metadata = [x[1] for x in dfs_train if isinstance(x[1], pd.DataFrame)]\n",
    "\n",
    "    train_dfs_sentiment = pd.concat(train_dfs_sentiment, ignore_index=True)\n",
    "    train_dfs_metadata = pd.concat(train_dfs_metadata, ignore_index=True)\n",
    "\n",
    "    print(train_dfs_sentiment.shape, train_dfs_metadata.shape)\n",
    "\n",
    "    dfs_test = Parallel(n_jobs=-1, verbose=1)(\n",
    "        delayed(extract_additional_features)(i, mode='test') for i in test_pet_ids)\n",
    "\n",
    "    test_dfs_sentiment = [x[0] for x in dfs_test if isinstance(x[0], pd.DataFrame)]\n",
    "    test_dfs_metadata = [x[1] for x in dfs_test if isinstance(x[1], pd.DataFrame)]\n",
    "\n",
    "    test_dfs_sentiment = pd.concat(test_dfs_sentiment, ignore_index=True)\n",
    "    test_dfs_metadata = pd.concat(test_dfs_metadata, ignore_index=True)\n",
    "\n",
    "    print(test_dfs_sentiment.shape, test_dfs_metadata.shape)"
   ]
  },
  {
   "cell_type": "code",
   "execution_count": 26,
   "metadata": {},
   "outputs": [
    {
     "data": {
      "text/html": [
       "<div>\n",
       "<style scoped>\n",
       "    .dataframe tbody tr th:only-of-type {\n",
       "        vertical-align: middle;\n",
       "    }\n",
       "\n",
       "    .dataframe tbody tr th {\n",
       "        vertical-align: top;\n",
       "    }\n",
       "\n",
       "    .dataframe thead th {\n",
       "        text-align: right;\n",
       "    }\n",
       "</style>\n",
       "<table border=\"1\" class=\"dataframe\">\n",
       "  <thead>\n",
       "    <tr style=\"text-align: right;\">\n",
       "      <th></th>\n",
       "      <th>metadata_annots_score</th>\n",
       "      <th>metadata_color_score</th>\n",
       "      <th>metadata_color_pixelfrac</th>\n",
       "      <th>metadata_annots_top_desc</th>\n",
       "      <th>PetID</th>\n",
       "    </tr>\n",
       "  </thead>\n",
       "  <tbody>\n",
       "    <tr>\n",
       "      <th>0</th>\n",
       "      <td>0.830798</td>\n",
       "      <td>0.074838</td>\n",
       "      <td>0.066331</td>\n",
       "      <td>cat black cat small to medium sized cats cat l...</td>\n",
       "      <td>86e1089a3</td>\n",
       "    </tr>\n",
       "    <tr>\n",
       "      <th>1</th>\n",
       "      <td>0.803185</td>\n",
       "      <td>0.087330</td>\n",
       "      <td>0.068100</td>\n",
       "      <td>cat whiskers small to medium sized cats fauna ...</td>\n",
       "      <td>6296e909a</td>\n",
       "    </tr>\n",
       "    <tr>\n",
       "      <th>2</th>\n",
       "      <td>0.787731</td>\n",
       "      <td>0.096085</td>\n",
       "      <td>0.059261</td>\n",
       "      <td>cat small to medium sized cats cat like mammal...</td>\n",
       "      <td>6296e909a</td>\n",
       "    </tr>\n",
       "    <tr>\n",
       "      <th>3</th>\n",
       "      <td>0.787158</td>\n",
       "      <td>0.098592</td>\n",
       "      <td>0.040791</td>\n",
       "      <td>dog dog like mammal dog breed dog breed group ...</td>\n",
       "      <td>3422e4906</td>\n",
       "    </tr>\n",
       "    <tr>\n",
       "      <th>4</th>\n",
       "      <td>0.814668</td>\n",
       "      <td>0.098333</td>\n",
       "      <td>0.096948</td>\n",
       "      <td>dog dog like mammal dog breed dog breed group ...</td>\n",
       "      <td>3422e4906</td>\n",
       "    </tr>\n",
       "  </tbody>\n",
       "</table>\n",
       "</div>"
      ],
      "text/plain": [
       "   metadata_annots_score  metadata_color_score  metadata_color_pixelfrac  \\\n",
       "0               0.830798              0.074838                  0.066331   \n",
       "1               0.803185              0.087330                  0.068100   \n",
       "2               0.787731              0.096085                  0.059261   \n",
       "3               0.787158              0.098592                  0.040791   \n",
       "4               0.814668              0.098333                  0.096948   \n",
       "\n",
       "                            metadata_annots_top_desc      PetID  \n",
       "0  cat black cat small to medium sized cats cat l...  86e1089a3  \n",
       "1  cat whiskers small to medium sized cats fauna ...  6296e909a  \n",
       "2  cat small to medium sized cats cat like mammal...  6296e909a  \n",
       "3  dog dog like mammal dog breed dog breed group ...  3422e4906  \n",
       "4  dog dog like mammal dog breed dog breed group ...  3422e4906  "
      ]
     },
     "execution_count": 26,
     "metadata": {},
     "output_type": "execute_result"
    }
   ],
   "source": [
    "train_dfs_metadata.head()"
   ]
  },
  {
   "cell_type": "markdown",
   "metadata": {
    "_uuid": "60d0a0df563b4fabd29a96159492eb69d5854b94"
   },
   "source": [
    "## Aggregate meta and sent features via PetID"
   ]
  },
  {
   "cell_type": "code",
   "execution_count": 27,
   "metadata": {
    "_uuid": "6fcf1858f550d128ff076ed1d3c32efb9810ef23"
   },
   "outputs": [],
   "source": [
    "aggregates = ['sum', 'mean', 'max', 'min', 'var']\n",
    "sent_agg = ['sum']\n",
    "\n",
    "# Train\n",
    "train_metadata_desc = train_dfs_metadata.groupby(['PetID'])['metadata_annots_top_desc'].unique()\n",
    "train_metadata_desc = train_metadata_desc.reset_index()\n",
    "train_metadata_desc[\n",
    "    'metadata_annots_top_desc'] = train_metadata_desc[\n",
    "    'metadata_annots_top_desc'].apply(lambda x: ' '.join(x))\n",
    "\n",
    "prefix = 'metadata'\n",
    "train_metadata_gr = train_dfs_metadata.drop(['metadata_annots_top_desc'], axis=1)\n",
    "for i in train_metadata_gr.columns:\n",
    "    if 'PetID' not in i:\n",
    "        train_metadata_gr[i] = train_metadata_gr[i].astype(float)\n",
    "train_metadata_gr = train_metadata_gr.groupby(['PetID']).agg(aggregates)\n",
    "train_metadata_gr.columns = pd.Index([f'{c[0]}_{c[1].upper()}' for c in train_metadata_gr.columns.tolist()])\n",
    "train_metadata_gr = train_metadata_gr.reset_index()\n",
    "\n",
    "\n",
    "train_sentiment_desc = train_dfs_sentiment.groupby(['PetID'])['sentiment_entities'].unique()\n",
    "train_sentiment_desc = train_sentiment_desc.reset_index()\n",
    "train_sentiment_desc[\n",
    "    'sentiment_entities'] = train_sentiment_desc[\n",
    "    'sentiment_entities'].apply(lambda x: ' '.join(x))\n",
    "\n",
    "prefix = 'sentiment'\n",
    "train_sentiment_gr = train_dfs_sentiment.drop(['sentiment_entities'], axis=1)\n",
    "for i in train_sentiment_gr.columns:\n",
    "    if 'PetID' not in i:\n",
    "        train_sentiment_gr[i] = train_sentiment_gr[i].astype(float)\n",
    "train_sentiment_gr = train_sentiment_gr.groupby(['PetID']).agg(sent_agg)\n",
    "train_sentiment_gr.columns = pd.Index([f'{c[0]}' for c in train_sentiment_gr.columns.tolist()])\n",
    "train_sentiment_gr = train_sentiment_gr.reset_index()\n",
    "\n",
    "\n",
    "# Test\n",
    "test_metadata_desc = test_dfs_metadata.groupby(['PetID'])['metadata_annots_top_desc'].unique()\n",
    "test_metadata_desc = test_metadata_desc.reset_index()\n",
    "test_metadata_desc[\n",
    "    'metadata_annots_top_desc'] = test_metadata_desc[\n",
    "    'metadata_annots_top_desc'].apply(lambda x: ' '.join(x))\n",
    "\n",
    "prefix = 'metadata'\n",
    "test_metadata_gr = test_dfs_metadata.drop(['metadata_annots_top_desc'], axis=1)\n",
    "for i in test_metadata_gr.columns:\n",
    "    if 'PetID' not in i:\n",
    "        test_metadata_gr[i] = test_metadata_gr[i].astype(float)\n",
    "test_metadata_gr = test_metadata_gr.groupby(['PetID']).agg(aggregates)\n",
    "test_metadata_gr.columns = pd.Index([f'{c[0]}_{c[1].upper()}' for c in test_metadata_gr.columns.tolist()])\n",
    "test_metadata_gr = test_metadata_gr.reset_index()\n",
    "\n",
    "test_sentiment_desc = test_dfs_sentiment.groupby(['PetID'])['sentiment_entities'].unique()\n",
    "test_sentiment_desc = test_sentiment_desc.reset_index()\n",
    "test_sentiment_desc[\n",
    "    'sentiment_entities'] = test_sentiment_desc[\n",
    "    'sentiment_entities'].apply(lambda x: ' '.join(x))\n",
    "\n",
    "prefix = 'sentiment'\n",
    "test_sentiment_gr = test_dfs_sentiment.drop(['sentiment_entities'], axis=1)\n",
    "for i in test_sentiment_gr.columns:\n",
    "    if 'PetID' not in i:\n",
    "        test_sentiment_gr[i] = test_sentiment_gr[i].astype(float)\n",
    "test_sentiment_gr = test_sentiment_gr.groupby(['PetID']).agg(sent_agg)\n",
    "test_sentiment_gr.columns = pd.Index([f'{c[0]}' for c in test_sentiment_gr.columns.tolist()])\n",
    "test_sentiment_gr = test_sentiment_gr.reset_index()"
   ]
  },
  {
   "cell_type": "markdown",
   "metadata": {
    "_uuid": "0e4fa08ae5c47926cffb2202fc4fe5ba83a088cc"
   },
   "source": [
    "# Join Data Sets"
   ]
  },
  {
   "cell_type": "code",
   "execution_count": 28,
   "metadata": {
    "_uuid": "adba560254a6221ac0ca717581a748f984d1b9f7"
   },
   "outputs": [
    {
     "name": "stdout",
     "output_type": "stream",
     "text": [
      "(14993, 49) (3948, 48)\n"
     ]
    }
   ],
   "source": [
    "# Train merges:\n",
    "train_proc = train.copy()\n",
    "train_proc = train_proc.merge(\n",
    "    train_sentiment_gr, how='left', on='PetID')\n",
    "train_proc = train_proc.merge(\n",
    "    train_metadata_gr, how='left', on='PetID')\n",
    "train_proc = train_proc.merge(\n",
    "    train_metadata_desc, how='left', on='PetID')\n",
    "train_proc = train_proc.merge(\n",
    "    train_sentiment_desc, how='left', on='PetID')\n",
    "\n",
    "# Test merges:\n",
    "test_proc = test.copy()\n",
    "test_proc = test_proc.merge(\n",
    "    test_sentiment_gr, how='left', on='PetID')\n",
    "test_proc = test_proc.merge(\n",
    "    test_metadata_gr, how='left', on='PetID')\n",
    "test_proc = test_proc.merge(\n",
    "    test_metadata_desc, how='left', on='PetID')\n",
    "test_proc = test_proc.merge(\n",
    "    test_sentiment_desc, how='left', on='PetID')\n",
    "\n",
    "print(train_proc.shape, test_proc.shape)\n",
    "assert train_proc.shape[0] == train.shape[0]\n",
    "assert test_proc.shape[0] == test.shape[0]"
   ]
  },
  {
   "cell_type": "code",
   "execution_count": 29,
   "metadata": {
    "_uuid": "cf129fa48290bd51a75aa8093d6e964942437f31"
   },
   "outputs": [
    {
     "name": "stdout",
     "output_type": "stream",
     "text": [
      "(14993, 49) (3948, 48)\n"
     ]
    }
   ],
   "source": [
    "print(train_proc.shape, test_proc.shape)\n",
    "X = pd.concat([train_proc, test_proc], ignore_index=True)"
   ]
  },
  {
   "cell_type": "code",
   "execution_count": 30,
   "metadata": {
    "_uuid": "b7dace2bbcf7eceedfa72e1d9af39506846e7782"
   },
   "outputs": [],
   "source": [
    "X_temp = X.copy()\n",
    "\n",
    "text_columns = ['Description', 'metadata_annots_top_desc', 'sentiment_entities']\n",
    "\n",
    "to_drop_columns = ['PetID', 'Name', 'RescuerID']"
   ]
  },
  {
   "cell_type": "code",
   "execution_count": 31,
   "metadata": {},
   "outputs": [
    {
     "data": {
      "text/plain": [
       "(18941, 49)"
      ]
     },
     "execution_count": 31,
     "metadata": {},
     "output_type": "execute_result"
    }
   ],
   "source": [
    "X_temp.shape"
   ]
  },
  {
   "cell_type": "code",
   "execution_count": 32,
   "metadata": {
    "_uuid": "44b50fa65d691a27399f1232203b2249fc1d8c70"
   },
   "outputs": [],
   "source": [
    "X_text = X_temp[text_columns]\n",
    "\n",
    "for i in X_text.columns:\n",
    "    X_text.loc[:, i] = X_text.loc[:, i].fillna('none')"
   ]
  },
  {
   "cell_type": "markdown",
   "metadata": {},
   "source": [
    "# Generate new features"
   ]
  },
  {
   "cell_type": "code",
   "execution_count": 33,
   "metadata": {},
   "outputs": [],
   "source": [
    "X_temp['Pure']=0\n",
    "X_temp.loc[X_temp['Breed2']==0,'Pure']=1\n",
    "X_temp.loc[X_temp['Breed1']==307,'Pure']=0"
   ]
  },
  {
   "cell_type": "code",
   "execution_count": 34,
   "metadata": {
    "_uuid": "24170b22e97131ad802f643cf3ec1a9b292e4060"
   },
   "outputs": [],
   "source": [
    "X_temp['Length_Description'] = X_text['Description'].map(len)\n",
    "X_temp['Length_metadata_annots_top_desc'] = X_text['metadata_annots_top_desc'].map(len)\n",
    "X_temp['Lengths_sentiment_entities'] = X_text['sentiment_entities'].map(len)"
   ]
  },
  {
   "cell_type": "code",
   "execution_count": 35,
   "metadata": {},
   "outputs": [],
   "source": [
    "state_gdp = {\n",
    "    41336: 116.679,\n",
    "    41325: 40.596,\n",
    "    41367: 23.02,\n",
    "    41401: 190.075,\n",
    "    41415: 5.984,\n",
    "    41324: 37.274,\n",
    "    41332: 42.389,\n",
    "    41335: 52.452,\n",
    "    41330: 67.629,\n",
    "    41380: 5.642,\n",
    "    41327: 81.284,\n",
    "    41345: 80.167,\n",
    "    41342: 121.414,\n",
    "    41326: 280.698,\n",
    "    41361: 32.270\n",
    "}\n",
    "state_population = {\n",
    "    41336: 33.48283,\n",
    "    41325: 19.47651,\n",
    "    41367: 15.39601,\n",
    "    41401: 16.74621,\n",
    "    41415: 0.86908,\n",
    "    41324: 8.21110,\n",
    "    41332: 10.21064,\n",
    "    41335: 15.00817,\n",
    "    41330: 23.52743,\n",
    "    41380: 2.31541,\n",
    "    41327: 15.61383,\n",
    "    41345: 32.06742,\n",
    "    41342: 24.71140,\n",
    "    41326: 54.62141,\n",
    "    41361: 10.35977\n",
    "}\n",
    "X_temp[\"State_Gdp\"] = X_temp.State.map(state_gdp)\n",
    "X_temp[\"State_Population\"] = X_temp.State.map(state_population)"
   ]
  },
  {
   "cell_type": "code",
   "execution_count": 36,
   "metadata": {},
   "outputs": [],
   "source": [
    "X_temp['Fee_Quantity'] = X_temp['Fee']/X_temp['Quantity']\n",
    "X_temp['PhotoAmt_Quantity'] = X_temp['PhotoAmt']/X_temp['Quantity']"
   ]
  },
  {
   "cell_type": "code",
   "execution_count": 37,
   "metadata": {},
   "outputs": [],
   "source": [
    "X_temp.loc[(X_temp['Age'] == 0), 'Age'] = 6\n",
    "X_temp['Age_Halfyear'] = X_temp.Age//6\n",
    "\n",
    "X_temp['Health_Age'] = X_temp['Health']/X_temp['Age']\n",
    "X_temp['Quantity_Age'] = X_temp['Quantity']/X_temp['Age']\n",
    "X_temp['Fee_Age'] = X_temp['Fee']/X_temp['Age']\n",
    "X_temp['PhotoAmt_Age'] = X_temp['PhotoAmt']/X_temp['Age']\n"
   ]
  },
  {
   "cell_type": "markdown",
   "metadata": {
    "_uuid": "32a31a517e2834ffa31f0f592ad7d4240ae5c1ea"
   },
   "source": [
    "## Text based features"
   ]
  },
  {
   "cell_type": "code",
   "execution_count": 42,
   "metadata": {
    "_uuid": "09116632baadf6842804dedc15023ffda928f7c5"
   },
   "outputs": [
    {
     "name": "stdout",
     "output_type": "stream",
     "text": [
      "generating features from: Description\n",
      "Looking for top words\n",
      "Top words found\n",
      "generating features from: metadata_annots_top_desc\n",
      "Looking for top words\n",
      "Top words found\n",
      "generating features from: sentiment_entities\n",
      "Looking for top words\n",
      "Top words found\n",
      "CPU times: user 22.7 s, sys: 837 ms, total: 23.5 s\n",
      "Wall time: 23.1 s\n"
     ]
    }
   ],
   "source": [
    "%%time\n",
    "n_top_words = 30\n",
    "num_class = 5\n",
    "text_features = []\n",
    "ext_text_features = []\n",
    "\n",
    "# Generate text features:\n",
    "for i in X_text.columns:\n",
    "    \n",
    "    # Initialize decomposition methods:\n",
    "    print(f'generating features from: {i}')\n",
    "    tfv = TfidfVectorizer(min_df=3,  \n",
    "                          max_features=10000,\n",
    "                          strip_accents='unicode', \n",
    "                          analyzer='word', \n",
    "                          token_pattern=r'\\w{1,}',\n",
    "                          ngram_range=(1, 3), \n",
    "                          use_idf=1, \n",
    "                          smooth_idf=1, \n",
    "                          sublinear_tf=1,\n",
    "                          stop_words = 'english')\n",
    "\n",
    "    svd_ = TruncatedSVD(\n",
    "        n_components=n_comp, random_state=1337)\n",
    "    \n",
    "    tfidf_col = tfv.fit_transform(X_text.loc[:, i].values)\n",
    "    \n",
    "    svd_col = svd_.fit_transform(tfidf_col)\n",
    "    svd_col = pd.DataFrame(svd_col)\n",
    "    svd_col = svd_col.add_prefix('TFIDF_{}_'.format(i))\n",
    "    \n",
    "    text_features.append(svd_col)\n",
    "    \n",
    "    print('Looking for top words')\n",
    "    # brief classifier from words to AdoptionSpeed\n",
    "    clf = RidgeClassifier(alpha=0.1)\n",
    "    clf.fit(tfidf_col[:len(train)], train.AdoptionSpeed.values)\n",
    "\n",
    "    #words = np.array(tfv.get_feature_names())\n",
    "    top_N_ids = np.argsort(clf.coef_)[:,-n_top_words:][:, ::-1]\n",
    "    bot_N_ids = np.argsort(clf.coef_)[:,:n_top_words]\n",
    "    print('Top words found')    \n",
    "\n",
    "    top_cols= []\n",
    "    for cc in range(num_class):\n",
    "        res_cols = None\n",
    "        for j in top_N_ids[cc]:\n",
    "            tmp_col = np.array(tfidf_col.getcol(j).todense())\n",
    "            if res_cols is None:\n",
    "                res_cols = tmp_col\n",
    "            else:\n",
    "                res_cols = np.hstack((res_cols, tmp_col))\n",
    "        res = res_cols.sum(axis=1)\n",
    "        top_cols.append(res)\n",
    "    top_cols = np.array(top_cols).T\n",
    "    top_cols = pd.DataFrame(top_cols)\n",
    "    top_cols = top_cols.add_prefix('TFIDF_TopCols_{}_'.format(i))\n",
    "\n",
    "    bot_cols= []\n",
    "    for cc in range(num_class):\n",
    "        res_cols = None\n",
    "        for j in bot_N_ids[cc]:\n",
    "            tmp_col = np.array(tfidf_col.getcol(j).todense())\n",
    "            if res_cols is None:\n",
    "                res_cols = tmp_col\n",
    "            else:\n",
    "                res_cols = np.hstack((res_cols, tmp_col))\n",
    "        res = res_cols.sum(axis=1)\n",
    "        bot_cols.append(res)\n",
    "    bot_cols = np.array(bot_cols).T   \n",
    "    bot_cols = pd.DataFrame(bot_cols)\n",
    "    bot_cols = bot_cols.add_prefix('TFIDF_BotCols_{}_'.format(i))\n",
    "\n",
    "    ext_text_features.append(top_cols)\n",
    "    ext_text_features.append(bot_cols)\n",
    "   \n",
    "    \n",
    "text_features = pd.concat(text_features, axis=1)\n",
    "ext_text_features = pd.concat(ext_text_features, axis=1)\n"
   ]
  },
  {
   "cell_type": "code",
   "execution_count": 43,
   "metadata": {
    "_uuid": "09116632baadf6842804dedc15023ffda928f7c5"
   },
   "outputs": [],
   "source": [
    "# Merge with ext text features\n",
    "X_temp = pd.concat([X_temp, ext_text_features], axis=1)\n",
    "\n",
    "X_temp = pd.concat([X_temp, text_features], axis=1)\n",
    "\n",
    "for i in X_text.columns:\n",
    "    X_temp = X_temp.drop(i, axis=1)"
   ]
  },
  {
   "cell_type": "code",
   "execution_count": 44,
   "metadata": {
    "_uuid": "b5f17382a1089b126323da4ce91211d29971f26c"
   },
   "outputs": [
    {
     "data": {
      "text/plain": [
       "(18941, 137)"
      ]
     },
     "execution_count": 44,
     "metadata": {},
     "output_type": "execute_result"
    }
   ],
   "source": [
    "X_temp = X_temp.merge(pd.concat([train_img_features_gr, test_img_features_gr], axis=0),\n",
    "                          how='left', \n",
    "                          on='PetID')\n",
    "\n",
    "X_temp.shape"
   ]
  },
  {
   "cell_type": "code",
   "execution_count": 45,
   "metadata": {},
   "outputs": [
    {
     "data": {
      "text/html": [
       "<div>\n",
       "<style scoped>\n",
       "    .dataframe tbody tr th:only-of-type {\n",
       "        vertical-align: middle;\n",
       "    }\n",
       "\n",
       "    .dataframe tbody tr th {\n",
       "        vertical-align: top;\n",
       "    }\n",
       "\n",
       "    .dataframe thead th {\n",
       "        text-align: right;\n",
       "    }\n",
       "</style>\n",
       "<table border=\"1\" class=\"dataframe\">\n",
       "  <thead>\n",
       "    <tr style=\"text-align: right;\">\n",
       "      <th></th>\n",
       "      <th>AdoptionSpeed</th>\n",
       "      <th>Age</th>\n",
       "      <th>Breed1</th>\n",
       "      <th>Breed2</th>\n",
       "      <th>Color1</th>\n",
       "      <th>Color2</th>\n",
       "      <th>Color3</th>\n",
       "      <th>Dewormed</th>\n",
       "      <th>Fee</th>\n",
       "      <th>FurLength</th>\n",
       "      <th>...</th>\n",
       "      <th>IMG_SVD_4_MEAN</th>\n",
       "      <th>IMG_SVD_5_MIN</th>\n",
       "      <th>IMG_SVD_5_MAX</th>\n",
       "      <th>IMG_SVD_5_MEAN</th>\n",
       "      <th>IMG_SVD_6_MIN</th>\n",
       "      <th>IMG_SVD_6_MAX</th>\n",
       "      <th>IMG_SVD_6_MEAN</th>\n",
       "      <th>IMG_SVD_7_MIN</th>\n",
       "      <th>IMG_SVD_7_MAX</th>\n",
       "      <th>IMG_SVD_7_MEAN</th>\n",
       "    </tr>\n",
       "  </thead>\n",
       "  <tbody>\n",
       "    <tr>\n",
       "      <th>0</th>\n",
       "      <td>2.0</td>\n",
       "      <td>3</td>\n",
       "      <td>299</td>\n",
       "      <td>0</td>\n",
       "      <td>1</td>\n",
       "      <td>7</td>\n",
       "      <td>0</td>\n",
       "      <td>2</td>\n",
       "      <td>100</td>\n",
       "      <td>1</td>\n",
       "      <td>...</td>\n",
       "      <td>0.914600</td>\n",
       "      <td>0.354028</td>\n",
       "      <td>0.354028</td>\n",
       "      <td>0.354028</td>\n",
       "      <td>-0.831311</td>\n",
       "      <td>-0.831311</td>\n",
       "      <td>-0.831311</td>\n",
       "      <td>-0.854971</td>\n",
       "      <td>-0.854971</td>\n",
       "      <td>-0.854971</td>\n",
       "    </tr>\n",
       "    <tr>\n",
       "      <th>1</th>\n",
       "      <td>0.0</td>\n",
       "      <td>1</td>\n",
       "      <td>265</td>\n",
       "      <td>0</td>\n",
       "      <td>1</td>\n",
       "      <td>2</td>\n",
       "      <td>0</td>\n",
       "      <td>3</td>\n",
       "      <td>0</td>\n",
       "      <td>2</td>\n",
       "      <td>...</td>\n",
       "      <td>-0.051113</td>\n",
       "      <td>-0.494756</td>\n",
       "      <td>-0.055304</td>\n",
       "      <td>-0.275030</td>\n",
       "      <td>-1.228898</td>\n",
       "      <td>-0.889443</td>\n",
       "      <td>-1.059171</td>\n",
       "      <td>-0.639604</td>\n",
       "      <td>-0.529368</td>\n",
       "      <td>-0.584486</td>\n",
       "    </tr>\n",
       "    <tr>\n",
       "      <th>2</th>\n",
       "      <td>3.0</td>\n",
       "      <td>1</td>\n",
       "      <td>307</td>\n",
       "      <td>0</td>\n",
       "      <td>2</td>\n",
       "      <td>7</td>\n",
       "      <td>0</td>\n",
       "      <td>1</td>\n",
       "      <td>0</td>\n",
       "      <td>2</td>\n",
       "      <td>...</td>\n",
       "      <td>-1.033105</td>\n",
       "      <td>0.167516</td>\n",
       "      <td>0.666849</td>\n",
       "      <td>0.463631</td>\n",
       "      <td>-1.023799</td>\n",
       "      <td>0.415500</td>\n",
       "      <td>-0.205626</td>\n",
       "      <td>0.177389</td>\n",
       "      <td>0.943694</td>\n",
       "      <td>0.582277</td>\n",
       "    </tr>\n",
       "    <tr>\n",
       "      <th>3</th>\n",
       "      <td>2.0</td>\n",
       "      <td>4</td>\n",
       "      <td>307</td>\n",
       "      <td>0</td>\n",
       "      <td>1</td>\n",
       "      <td>2</td>\n",
       "      <td>0</td>\n",
       "      <td>1</td>\n",
       "      <td>150</td>\n",
       "      <td>1</td>\n",
       "      <td>...</td>\n",
       "      <td>0.027888</td>\n",
       "      <td>0.182361</td>\n",
       "      <td>1.425171</td>\n",
       "      <td>0.784369</td>\n",
       "      <td>-1.018156</td>\n",
       "      <td>0.297745</td>\n",
       "      <td>-0.328967</td>\n",
       "      <td>0.170937</td>\n",
       "      <td>0.592650</td>\n",
       "      <td>0.340126</td>\n",
       "    </tr>\n",
       "    <tr>\n",
       "      <th>4</th>\n",
       "      <td>2.0</td>\n",
       "      <td>1</td>\n",
       "      <td>307</td>\n",
       "      <td>0</td>\n",
       "      <td>1</td>\n",
       "      <td>0</td>\n",
       "      <td>0</td>\n",
       "      <td>2</td>\n",
       "      <td>0</td>\n",
       "      <td>1</td>\n",
       "      <td>...</td>\n",
       "      <td>-1.348324</td>\n",
       "      <td>-0.729744</td>\n",
       "      <td>0.310915</td>\n",
       "      <td>-0.064295</td>\n",
       "      <td>-1.286566</td>\n",
       "      <td>-0.229292</td>\n",
       "      <td>-0.906729</td>\n",
       "      <td>-1.071610</td>\n",
       "      <td>-0.458600</td>\n",
       "      <td>-0.811083</td>\n",
       "    </tr>\n",
       "  </tbody>\n",
       "</table>\n",
       "<p>5 rows × 137 columns</p>\n",
       "</div>"
      ],
      "text/plain": [
       "   AdoptionSpeed  Age  Breed1  Breed2  Color1  Color2  Color3  Dewormed  Fee  \\\n",
       "0            2.0    3     299       0       1       7       0         2  100   \n",
       "1            0.0    1     265       0       1       2       0         3    0   \n",
       "2            3.0    1     307       0       2       7       0         1    0   \n",
       "3            2.0    4     307       0       1       2       0         1  150   \n",
       "4            2.0    1     307       0       1       0       0         2    0   \n",
       "\n",
       "   FurLength       ...        IMG_SVD_4_MEAN  IMG_SVD_5_MIN  IMG_SVD_5_MAX  \\\n",
       "0          1       ...              0.914600       0.354028       0.354028   \n",
       "1          2       ...             -0.051113      -0.494756      -0.055304   \n",
       "2          2       ...             -1.033105       0.167516       0.666849   \n",
       "3          1       ...              0.027888       0.182361       1.425171   \n",
       "4          1       ...             -1.348324      -0.729744       0.310915   \n",
       "\n",
       "  IMG_SVD_5_MEAN IMG_SVD_6_MIN  IMG_SVD_6_MAX  IMG_SVD_6_MEAN IMG_SVD_7_MIN  \\\n",
       "0       0.354028     -0.831311      -0.831311       -0.831311     -0.854971   \n",
       "1      -0.275030     -1.228898      -0.889443       -1.059171     -0.639604   \n",
       "2       0.463631     -1.023799       0.415500       -0.205626      0.177389   \n",
       "3       0.784369     -1.018156       0.297745       -0.328967      0.170937   \n",
       "4      -0.064295     -1.286566      -0.229292       -0.906729     -1.071610   \n",
       "\n",
       "   IMG_SVD_7_MAX  IMG_SVD_7_MEAN  \n",
       "0      -0.854971       -0.854971  \n",
       "1      -0.529368       -0.584486  \n",
       "2       0.943694        0.582277  \n",
       "3       0.592650        0.340126  \n",
       "4      -0.458600       -0.811083  \n",
       "\n",
       "[5 rows x 137 columns]"
      ]
     },
     "execution_count": 45,
     "metadata": {},
     "output_type": "execute_result"
    }
   ],
   "source": [
    "X_temp.head()"
   ]
  },
  {
   "cell_type": "code",
   "execution_count": 46,
   "metadata": {},
   "outputs": [],
   "source": [
    "to_drop_columns = ['PetID', 'Name', 'RescuerID']"
   ]
  },
  {
   "cell_type": "markdown",
   "metadata": {
    "_uuid": "0c5e240b66fbf79c2c89a1097e39588faf97a119"
   },
   "source": [
    "## Add image size features"
   ]
  },
  {
   "cell_type": "code",
   "execution_count": 47,
   "metadata": {
    "_uuid": "90422f43e8181ca624f2e7959542b9d1cde865e7"
   },
   "outputs": [
    {
     "name": "stdout",
     "output_type": "stream",
     "text": [
      "CPU times: user 5.53 s, sys: 2.26 s, total: 7.79 s\n",
      "Wall time: 14.6 s\n"
     ]
    }
   ],
   "source": [
    "%%time\n",
    "from PIL import Image\n",
    "train_df_ids = train[['PetID']]\n",
    "test_df_ids = test[['PetID']]\n",
    "\n",
    "train_df_imgs = pd.DataFrame(train_image_files)\n",
    "train_df_imgs.columns = ['image_filename']\n",
    "train_imgs_pets = train_df_imgs['image_filename'].apply(\n",
    "    lambda x: x.split(split_char)[-1].split('-')[0])\n",
    "\n",
    "test_df_imgs = pd.DataFrame(test_image_files)\n",
    "test_df_imgs.columns = ['image_filename']\n",
    "test_imgs_pets = test_df_imgs['image_filename'].apply(\n",
    "    lambda x: x.split(split_char)[-1].split('-')[0])\n",
    "\n",
    "train_df_imgs = train_df_imgs.assign(PetID=train_imgs_pets)\n",
    "test_df_imgs = test_df_imgs.assign(PetID=test_imgs_pets)\n",
    "\n",
    "def getSize(filename):\n",
    "    st = os.stat(filename)\n",
    "    return st.st_size\n",
    "\n",
    "def getDimensions(filename):\n",
    "    img_size = Image.open(filename).size\n",
    "    return img_size \n",
    "\n",
    "train_df_imgs['image_size'] = train_df_imgs['image_filename'].apply(getSize)\n",
    "train_df_imgs['temp_size'] = train_df_imgs['image_filename'].apply(getDimensions)\n",
    "train_df_imgs['width'] = train_df_imgs['temp_size'].apply(lambda x : x[0])\n",
    "train_df_imgs['height'] = train_df_imgs['temp_size'].apply(lambda x : x[1])\n",
    "train_df_imgs = train_df_imgs.drop(['temp_size'], axis=1)\n",
    "\n",
    "test_df_imgs['image_size'] = test_df_imgs['image_filename'].apply(getSize)\n",
    "test_df_imgs['temp_size'] = test_df_imgs['image_filename'].apply(getDimensions)\n",
    "test_df_imgs['width'] = test_df_imgs['temp_size'].apply(lambda x : x[0])\n",
    "test_df_imgs['height'] = test_df_imgs['temp_size'].apply(lambda x : x[1])\n",
    "test_df_imgs = test_df_imgs.drop(['temp_size'], axis=1)\n",
    "\n",
    "aggs = {\n",
    "    'image_size': ['sum', 'mean', 'max', 'min'],\n",
    "    'width': ['sum', 'mean', 'max', 'min'],\n",
    "    'height': ['sum', 'mean', 'max', 'min'],\n",
    "}\n",
    "\n",
    "agg_train_imgs = train_df_imgs.groupby('PetID').agg(aggs)\n",
    "new_columns = [\n",
    "    k + '_' + agg for k in aggs.keys() for agg in aggs[k]\n",
    "]\n",
    "agg_train_imgs.columns = new_columns\n",
    "agg_train_imgs = agg_train_imgs.reset_index()\n",
    "\n",
    "agg_test_imgs = test_df_imgs.groupby('PetID').agg(aggs)\n",
    "new_columns = [\n",
    "    k + '_' + agg for k in aggs.keys() for agg in aggs[k]\n",
    "]\n",
    "agg_test_imgs.columns = new_columns\n",
    "agg_test_imgs = agg_test_imgs.reset_index()\n",
    "\n",
    "agg_imgs = pd.concat([agg_train_imgs, agg_test_imgs], axis=0).reset_index(drop=True)"
   ]
  },
  {
   "cell_type": "code",
   "execution_count": 48,
   "metadata": {
    "_uuid": "7fb61e81ee7e060cc4e2ee8f1f8c9a8671d87c40"
   },
   "outputs": [],
   "source": [
    "X_temp = X_temp.merge(agg_imgs, how='left', on='PetID')"
   ]
  },
  {
   "cell_type": "markdown",
   "metadata": {},
   "source": [
    "# RescuerID_COUNT"
   ]
  },
  {
   "cell_type": "code",
   "execution_count": 49,
   "metadata": {},
   "outputs": [],
   "source": [
    "rescuer_count = X.groupby(['RescuerID'])['PetID'].count().reset_index()\n",
    "rescuer_count.columns = ['RescuerID', 'RescuerID_COUNT']\n",
    "X_temp = X_temp.merge(rescuer_count, how='left', on='RescuerID')"
   ]
  },
  {
   "cell_type": "markdown",
   "metadata": {},
   "source": [
    "# < CAT>_COUNT"
   ]
  },
  {
   "cell_type": "code",
   "execution_count": 50,
   "metadata": {},
   "outputs": [],
   "source": [
    "cc = ['State','Breed1','Breed2','Color1','Color2','MaturitySize','FurLength',\n",
    "          'Vaccinated','Sterilized','Dewormed','Health','Gender']\n",
    "\n",
    "for c in cc:\n",
    "    cc_count = X.groupby([c])['PetID'].count().reset_index()\n",
    "    cc_count.columns = [c, c+'_COUNT']\n",
    "    X_temp = X_temp.merge(cc_count, how='left', on=c)"
   ]
  },
  {
   "cell_type": "markdown",
   "metadata": {},
   "source": [
    "# RescuerID_< CAT>_COUNT"
   ]
  },
  {
   "cell_type": "code",
   "execution_count": 51,
   "metadata": {},
   "outputs": [],
   "source": [
    "cc = ['State','Breed1','Breed2','Color1','Color2','MaturitySize','FurLength',\n",
    "          'Vaccinated','Sterilized','Dewormed','Health','Type','Gender']\n",
    "\n",
    "for c in cc:\n",
    "    cc_count = X.groupby(['RescuerID',c])['PetID'].count().reset_index()\n",
    "    cc_count.columns = ['RescuerID', c, 'RescuerID_'+c+'_COUNT']\n",
    "    X_temp = X_temp.merge(cc_count, how='left', on=['RescuerID', c])"
   ]
  },
  {
   "cell_type": "markdown",
   "metadata": {},
   "source": [
    "# RescuerID  mean < NUM>"
   ]
  },
  {
   "cell_type": "code",
   "execution_count": 52,
   "metadata": {
    "scrolled": true
   },
   "outputs": [],
   "source": [
    "ss = ['Age','Fee','Quantity','PhotoAmt','Length_Description','sentiment_score_mean','image_size_max',\n",
    "     'Length_metadata_annots_top_desc','Lengths_sentiment_entities','metadata_annots_score_MEAN',\n",
    "      'metadata_color_pixelfrac_MEAN', 'metadata_color_score_MEAN','sentiment_magnitude_mean']\n",
    "\n",
    "for s in ss:\n",
    "    means = X_temp.groupby('RescuerID')[s].mean()\n",
    "    X_temp['RescuerID'+'_mean_'+s] = X_temp['RescuerID'].map(means)\n",
    "    #print(c+'_mean_'+s)"
   ]
  },
  {
   "cell_type": "markdown",
   "metadata": {},
   "source": [
    "# RescuerID mean < TFIDF 0... >"
   ]
  },
  {
   "cell_type": "code",
   "execution_count": 53,
   "metadata": {},
   "outputs": [],
   "source": [
    "for i in range(8):\n",
    "    means = X_temp.groupby('RescuerID')['IMG_SVD_'+str(i)+'_MIN'].mean()\n",
    "    X_temp['Rescuer_mean_IMG_SVD_'+str(i)+'_MIN'] = X_temp.RescuerID.map(means)\n",
    "\n",
    "i=0\n",
    "for s in ['TFIDF_sentiment_entities_','TFIDF_metadata_annots_top_desc_']:\n",
    "    means = X_temp.groupby('RescuerID')[s+str(i)].mean()\n",
    "    X_temp['Rescuer_mean_'+s+str(i)] = X_temp.RescuerID.map(means)\n",
    "\n"
   ]
  },
  {
   "cell_type": "markdown",
   "metadata": {},
   "source": [
    "# < CAT> mean < NUM>"
   ]
  },
  {
   "cell_type": "code",
   "execution_count": 54,
   "metadata": {
    "scrolled": true
   },
   "outputs": [],
   "source": [
    "\n",
    "cc = ['State','Breed1','Breed2','Color1','Color2']\n",
    "      #,'MaturitySize','FurLength','Vaccinated','Sterilized','Dewormed','Health','Type','Gender']\n",
    "\n",
    "ss = ['Age','Fee','Quantity','PhotoAmt','Length_Description','sentiment_score_mean','image_size_max',\n",
    "     'Length_metadata_annots_top_desc','Lengths_sentiment_entities','metadata_annots_score_MEAN',\n",
    "      'metadata_color_pixelfrac_MEAN', 'metadata_color_score_MEAN','sentiment_magnitude_mean']\n",
    "\n",
    "for c in cc:\n",
    "    for s in ss:\n",
    "        means = X_temp.groupby(c)[s].mean()\n",
    "        X_temp[c+'_mean_'+s] = X_temp[c].map(means)\n"
   ]
  },
  {
   "cell_type": "markdown",
   "metadata": {},
   "source": [
    "# < CAT> mean < TFIDF 0... >"
   ]
  },
  {
   "cell_type": "code",
   "execution_count": 55,
   "metadata": {
    "scrolled": true
   },
   "outputs": [],
   "source": [
    "\n",
    "cc = ['State','Breed1','Breed2','Color1','Color2']\n",
    "      #,'MaturitySize','FurLength','Vaccinated','Sterilized','Dewormed','Health','Type','Gender']\n",
    "\n",
    "for c in cc:\n",
    "    for i in range(8):\n",
    "        means = X_temp.groupby(c)['IMG_SVD_'+str(i)+'_MIN'].mean()\n",
    "        X_temp[c+'_mean_IMG_SVD_'+str(i)+'_MIN'] = X_temp[c].map(means)\n",
    "\n",
    "ss = ['TFIDF_sentiment_entities_',\n",
    "      'TFIDF_metadata_annots_top_desc_']\n",
    "for c in cc:\n",
    "    i=0\n",
    "    for s in ss:\n",
    "        means = X_temp.groupby(c)[s+str(i)].mean()\n",
    "        X_temp[c+'_mean_'+s+str(i)] = X_temp[c].map(means)\n",
    "\n",
    "cc = ['State','Breed1','Breed2']\n",
    "s='TFIDF_Description_'\n",
    "for c in cc:\n",
    "    for i in range(8):\n",
    "        means = X_temp.groupby(c)[s+str(i)].mean()\n",
    "        X_temp[c+'_mean_'+s+str(i)] = X_temp[c].map(means)\n"
   ]
  },
  {
   "cell_type": "markdown",
   "metadata": {},
   "source": [
    "# RescuerID < CAT> mean < NUM>"
   ]
  },
  {
   "cell_type": "code",
   "execution_count": 56,
   "metadata": {},
   "outputs": [],
   "source": [
    "\n",
    "cc = ['State','Breed1','Breed2','Color1','Color2']\n",
    "      #,'MaturitySize','FurLength','Vaccinated','Sterilized','Dewormed','Health','Type','Gender']\n",
    "\n",
    "ss = ['Age','Fee','Quantity','PhotoAmt','Length_Description','sentiment_score_mean','image_size_max',\n",
    "     'Length_metadata_annots_top_desc','Lengths_sentiment_entities','metadata_annots_score_MEAN',\n",
    "      'metadata_color_pixelfrac_MEAN', 'metadata_color_score_MEAN','sentiment_magnitude_mean']\n",
    "\n",
    "for c2 in cc:\n",
    "    for s in ss:\n",
    "        #print(c1,c2,s)\n",
    "        tt = X_temp.groupby(['RescuerID',c2])[s].mean().reset_index()\n",
    "        tt.columns = ['RescuerID',c2, 'RescuerID_'+c2+'_mean_'+s]\n",
    "        X_temp = X_temp.merge(tt, how='left', on=['RescuerID',c2])\n"
   ]
  },
  {
   "cell_type": "markdown",
   "metadata": {},
   "source": [
    "# RescuerID < CAT> mean < TFIDF 0... >"
   ]
  },
  {
   "cell_type": "code",
   "execution_count": 57,
   "metadata": {},
   "outputs": [],
   "source": [
    "\n",
    "cc = ['State','Breed1','Breed2','Color1','Color2']\n",
    "      #,'MaturitySize','FurLength','Vaccinated','Sterilized','Dewormed','Health','Type','Gender']\n",
    "\n",
    "for i in range(8): \n",
    "    for c2 in cc:\n",
    "        s='TFIDF_Description_'\n",
    "        tt = X_temp.groupby(['RescuerID',c2])[s+str(i)].mean().reset_index()\n",
    "        tt.columns = ['RescuerID',c2, 'RescuerID_'+c2+'_mean_'+s+str(i)]\n",
    "        X_temp = X_temp.merge(tt, how='left', on=['RescuerID',c2])\n",
    "        \n",
    "        tt = X_temp.groupby(['RescuerID',c2])['IMG_SVD_'+str(i)+'_MIN'].mean().reset_index()\n",
    "        tt.columns = ['RescuerID',c2, 'RescuerID_'+c2+'_mean_IMG_SVD_'+str(i)+'_MIN']\n",
    "        X_temp = X_temp.merge(tt, how='left', on=['RescuerID',c2])\n",
    "\n",
    "        \n",
    "ss = ['TFIDF_sentiment_entities_',\n",
    "      'TFIDF_metadata_annots_top_desc_']\n",
    "i=0\n",
    "for c2 in cc:\n",
    "    for s in ss:\n",
    "        tt = X_temp.groupby(['RescuerID',c2])[s+str(i)].mean().reset_index()\n",
    "        tt.columns = ['RescuerID',c2, 'RescuerID_'+c2+'_mean_'+s+str(i)]\n",
    "        X_temp = X_temp.merge(tt, how='left', on=['RescuerID',c2])\n"
   ]
  },
  {
   "cell_type": "code",
   "execution_count": null,
   "metadata": {},
   "outputs": [],
   "source": []
  },
  {
   "cell_type": "code",
   "execution_count": 58,
   "metadata": {},
   "outputs": [],
   "source": [
    "to_drop_columns = ['PetID', 'Name', 'RescuerID','VideoAmt']"
   ]
  },
  {
   "cell_type": "markdown",
   "metadata": {
    "_uuid": "f9425dd6c4f5f045fcf3b96d42b06c9f8c5e21a7"
   },
   "source": [
    "# Drop ID, name and rescuerID"
   ]
  },
  {
   "cell_type": "code",
   "execution_count": 59,
   "metadata": {
    "_uuid": "054ca8cddec421f219099c63b710f5a21bdcedba"
   },
   "outputs": [],
   "source": [
    "X_temp = X_temp.drop(to_drop_columns, axis=1)"
   ]
  },
  {
   "cell_type": "code",
   "execution_count": 60,
   "metadata": {
    "_uuid": "5657331c2d46d83639d0d49bd286d664123fff98"
   },
   "outputs": [],
   "source": [
    "X_train = X_temp.loc[np.isfinite(X_temp.AdoptionSpeed), :]\n",
    "X_test = X_temp.loc[~np.isfinite(X_temp.AdoptionSpeed), :]\n",
    "\n",
    "X_test = X_test.drop(['AdoptionSpeed'], axis=1)\n",
    "\n",
    "assert X_train.shape[0] == train.shape[0]\n",
    "assert X_test.shape[0] == test.shape[0]\n",
    "\n",
    "train_cols = X_train.columns.tolist()\n",
    "train_cols.remove('AdoptionSpeed')\n",
    "\n",
    "test_cols = X_test.columns.tolist()\n"
   ]
  },
  {
   "cell_type": "code",
   "execution_count": 61,
   "metadata": {
    "_uuid": "33113d9abab481b5273bf023f139af5ad85e4f90"
   },
   "outputs": [],
   "source": [
    "X_train_non_null = X_train.fillna(-1)\n",
    "X_test_non_null = X_test.fillna(-1)"
   ]
  },
  {
   "cell_type": "code",
   "execution_count": 62,
   "metadata": {
    "_uuid": "18158d87855d8ad289edc6fff7aa442177ab0a68"
   },
   "outputs": [
    {
     "data": {
      "text/plain": [
       "(False, False)"
      ]
     },
     "execution_count": 62,
     "metadata": {},
     "output_type": "execute_result"
    }
   ],
   "source": [
    "X_train_non_null.isnull().any().any(), X_test_non_null.isnull().any().any()"
   ]
  },
  {
   "cell_type": "code",
   "execution_count": 63,
   "metadata": {
    "_uuid": "140d7ccb13fc5b7390a08eb73fb57377c94e15f4"
   },
   "outputs": [
    {
     "data": {
      "text/plain": [
       "((14993, 412), (3948, 411))"
      ]
     },
     "execution_count": 63,
     "metadata": {},
     "output_type": "execute_result"
    }
   ],
   "source": [
    "X_train_non_null.shape, X_test_non_null.shape"
   ]
  },
  {
   "cell_type": "markdown",
   "metadata": {
    "_uuid": "34c67df75d9ed9e01021426216164c7875956ac8"
   },
   "source": [
    "## Train model"
   ]
  },
  {
   "cell_type": "code",
   "execution_count": 64,
   "metadata": {
    "_uuid": "4ce7525ff6f3813967221e7f5ed3f104c711d687"
   },
   "outputs": [],
   "source": [
    "def plot_pred(pred):\n",
    "    sns.distplot(pred, kde=True, hist_kws={'range': [0, 5]})"
   ]
  },
  {
   "cell_type": "code",
   "execution_count": 65,
   "metadata": {},
   "outputs": [],
   "source": [
    "train_meta_df = pd.DataFrame()\n",
    "test_meta_df = pd.DataFrame()\n",
    "test_meta_all_df = pd.DataFrame()"
   ]
  },
  {
   "cell_type": "code",
   "execution_count": 66,
   "metadata": {},
   "outputs": [],
   "source": [
    "lgbm_params = {'application': 'regression',\n",
    "              'boosting': 'gbdt',\n",
    "              'metric': 'rmse',\n",
    "              'num_leaves': 70,\n",
    "              'max_depth': 6,\n",
    "              'learning_rate': 0.003,\n",
    "              'bagging_fraction': 0.8,\n",
    "              'feature_fraction': 0.7,\n",
    "              'min_split_gain': 0.02,\n",
    "              'min_child_samples': 150,\n",
    "              'min_child_weight': 0.02,\n",
    "              'lambda_l2': 0.0475,\n",
    "              'verbosity': -1,\n",
    "              'data_random_seed': 17}\n",
    "\n",
    "\n",
    "def run_lgbm(params, X_train, X_test):\n",
    "    oof_train = np.zeros((X_train.shape[0]))\n",
    "    oof_test = np.zeros((X_test.shape[0], n_splits))\n",
    "    i = 0\n",
    "    for train_index, valid_index in splits:\n",
    "\n",
    "        X_tr = X_train.iloc[train_index, :]\n",
    "        X_val = X_train.iloc[valid_index, :]\n",
    "        y_tr = X_tr['AdoptionSpeed'].values\n",
    "        X_tr = X_tr.drop(['AdoptionSpeed'], axis=1)\n",
    "        y_val = X_val['AdoptionSpeed'].values\n",
    "        X_val = X_val.drop(['AdoptionSpeed'], axis=1)\n",
    "        \n",
    "        d_train = lgb.Dataset(X_tr, label=y_tr)\n",
    "        d_valid = lgb.Dataset(X_val, label=y_val)\n",
    "        watchlist = [d_train, d_valid]\n",
    "\n",
    "        print('training LGB:{}'.format(i+1))\n",
    "        model = lgb.train(params,\n",
    "                          train_set=d_train,\n",
    "                          num_boost_round=num_rounds,\n",
    "                          valid_sets=watchlist,\n",
    "                          verbose_eval=verbose_eval,\n",
    "                          early_stopping_rounds=early_stop)\n",
    "\n",
    "        val_pred = model.predict(X_val, num_iteration=model.best_iteration)\n",
    "        test_pred = model.predict(X_test, num_iteration=model.best_iteration)\n",
    "\n",
    "        oof_train[valid_index] = val_pred\n",
    "        oof_test[:, i] = test_pred\n",
    "        i += 1\n",
    "    return model, oof_train, oof_test"
   ]
  },
  {
   "cell_type": "code",
   "execution_count": 67,
   "metadata": {
    "scrolled": false
   },
   "outputs": [
    {
     "name": "stdout",
     "output_type": "stream",
     "text": [
      "training LGB:1\n",
      "Training until validation scores don't improve for 1000 rounds.\n",
      "[1000]\ttraining's rmse: 0.96985\tvalid_1's rmse: 1.03442\n",
      "[2000]\ttraining's rmse: 0.915181\tvalid_1's rmse: 1.01297\n",
      "[3000]\ttraining's rmse: 0.875867\tvalid_1's rmse: 1.00375\n",
      "[4000]\ttraining's rmse: 0.844596\tvalid_1's rmse: 0.998174\n",
      "[5000]\ttraining's rmse: 0.819031\tvalid_1's rmse: 0.994841\n",
      "[6000]\ttraining's rmse: 0.794286\tvalid_1's rmse: 0.992969\n",
      "[7000]\ttraining's rmse: 0.771021\tvalid_1's rmse: 0.991432\n",
      "[8000]\ttraining's rmse: 0.747955\tvalid_1's rmse: 0.990362\n",
      "[9000]\ttraining's rmse: 0.725497\tvalid_1's rmse: 0.989559\n",
      "[10000]\ttraining's rmse: 0.705522\tvalid_1's rmse: 0.989489\n",
      "[11000]\ttraining's rmse: 0.685486\tvalid_1's rmse: 0.988983\n",
      "[12000]\ttraining's rmse: 0.665909\tvalid_1's rmse: 0.988487\n",
      "[13000]\ttraining's rmse: 0.648144\tvalid_1's rmse: 0.988474\n",
      "Early stopping, best iteration is:\n",
      "[12375]\ttraining's rmse: 0.659407\tvalid_1's rmse: 0.98844\n",
      "training LGB:2\n",
      "Training until validation scores don't improve for 1000 rounds.\n",
      "[1000]\ttraining's rmse: 0.976714\tvalid_1's rmse: 1.01704\n",
      "[2000]\ttraining's rmse: 0.92194\tvalid_1's rmse: 0.990786\n",
      "[3000]\ttraining's rmse: 0.88281\tvalid_1's rmse: 0.979369\n",
      "[4000]\ttraining's rmse: 0.851182\tvalid_1's rmse: 0.973265\n",
      "[5000]\ttraining's rmse: 0.824687\tvalid_1's rmse: 0.96926\n",
      "[6000]\ttraining's rmse: 0.798736\tvalid_1's rmse: 0.966182\n",
      "[7000]\ttraining's rmse: 0.774139\tvalid_1's rmse: 0.964398\n",
      "[8000]\ttraining's rmse: 0.749625\tvalid_1's rmse: 0.962417\n",
      "[9000]\ttraining's rmse: 0.726344\tvalid_1's rmse: 0.961051\n",
      "[10000]\ttraining's rmse: 0.704776\tvalid_1's rmse: 0.959446\n",
      "[11000]\ttraining's rmse: 0.685082\tvalid_1's rmse: 0.958676\n",
      "[12000]\ttraining's rmse: 0.664277\tvalid_1's rmse: 0.958214\n",
      "[13000]\ttraining's rmse: 0.644844\tvalid_1's rmse: 0.958015\n",
      "[14000]\ttraining's rmse: 0.626165\tvalid_1's rmse: 0.957705\n",
      "[15000]\ttraining's rmse: 0.609393\tvalid_1's rmse: 0.957247\n",
      "[16000]\ttraining's rmse: 0.593376\tvalid_1's rmse: 0.957399\n",
      "Early stopping, best iteration is:\n",
      "[15089]\ttraining's rmse: 0.608014\tvalid_1's rmse: 0.957232\n",
      "training LGB:3\n",
      "Training until validation scores don't improve for 1000 rounds.\n",
      "[1000]\ttraining's rmse: 0.967339\tvalid_1's rmse: 1.03401\n",
      "[2000]\ttraining's rmse: 0.911166\tvalid_1's rmse: 1.01173\n",
      "[3000]\ttraining's rmse: 0.87319\tvalid_1's rmse: 1.00161\n",
      "[4000]\ttraining's rmse: 0.842263\tvalid_1's rmse: 0.996257\n",
      "[5000]\ttraining's rmse: 0.814266\tvalid_1's rmse: 0.993051\n",
      "[6000]\ttraining's rmse: 0.788285\tvalid_1's rmse: 0.991015\n",
      "[7000]\ttraining's rmse: 0.760635\tvalid_1's rmse: 0.989109\n",
      "[8000]\ttraining's rmse: 0.736601\tvalid_1's rmse: 0.987594\n",
      "[9000]\ttraining's rmse: 0.715293\tvalid_1's rmse: 0.986943\n",
      "[10000]\ttraining's rmse: 0.693813\tvalid_1's rmse: 0.986693\n",
      "[11000]\ttraining's rmse: 0.673091\tvalid_1's rmse: 0.986189\n",
      "[12000]\ttraining's rmse: 0.654784\tvalid_1's rmse: 0.985837\n",
      "[13000]\ttraining's rmse: 0.636027\tvalid_1's rmse: 0.985629\n",
      "[14000]\ttraining's rmse: 0.617915\tvalid_1's rmse: 0.985766\n",
      "Early stopping, best iteration is:\n",
      "[13439]\ttraining's rmse: 0.627795\tvalid_1's rmse: 0.985555\n",
      "training LGB:4\n",
      "Training until validation scores don't improve for 1000 rounds.\n",
      "[1000]\ttraining's rmse: 0.96762\tvalid_1's rmse: 1.04413\n",
      "[2000]\ttraining's rmse: 0.911685\tvalid_1's rmse: 1.02331\n",
      "[3000]\ttraining's rmse: 0.873994\tvalid_1's rmse: 1.01386\n",
      "[4000]\ttraining's rmse: 0.843083\tvalid_1's rmse: 1.00866\n",
      "[5000]\ttraining's rmse: 0.814383\tvalid_1's rmse: 1.00511\n",
      "[6000]\ttraining's rmse: 0.787672\tvalid_1's rmse: 1.0029\n",
      "[7000]\ttraining's rmse: 0.763958\tvalid_1's rmse: 1.00103\n",
      "[8000]\ttraining's rmse: 0.73997\tvalid_1's rmse: 0.99948\n",
      "[9000]\ttraining's rmse: 0.717441\tvalid_1's rmse: 0.998182\n",
      "[10000]\ttraining's rmse: 0.695726\tvalid_1's rmse: 0.997218\n",
      "[11000]\ttraining's rmse: 0.676175\tvalid_1's rmse: 0.996301\n",
      "[12000]\ttraining's rmse: 0.656731\tvalid_1's rmse: 0.99597\n",
      "[13000]\ttraining's rmse: 0.638625\tvalid_1's rmse: 0.995599\n",
      "[14000]\ttraining's rmse: 0.620585\tvalid_1's rmse: 0.995293\n",
      "[15000]\ttraining's rmse: 0.602698\tvalid_1's rmse: 0.994812\n",
      "[16000]\ttraining's rmse: 0.58556\tvalid_1's rmse: 0.994454\n",
      "[17000]\ttraining's rmse: 0.569386\tvalid_1's rmse: 0.99403\n",
      "[18000]\ttraining's rmse: 0.554221\tvalid_1's rmse: 0.993899\n",
      "[19000]\ttraining's rmse: 0.539499\tvalid_1's rmse: 0.99357\n",
      "[20000]\ttraining's rmse: 0.524393\tvalid_1's rmse: 0.993434\n",
      "Early stopping, best iteration is:\n",
      "[19881]\ttraining's rmse: 0.52623\tvalid_1's rmse: 0.993406\n",
      "training LGB:5\n",
      "Training until validation scores don't improve for 1000 rounds.\n",
      "[1000]\ttraining's rmse: 0.96982\tvalid_1's rmse: 1.03559\n",
      "[2000]\ttraining's rmse: 0.911556\tvalid_1's rmse: 1.01365\n",
      "[3000]\ttraining's rmse: 0.870232\tvalid_1's rmse: 1.00531\n",
      "[4000]\ttraining's rmse: 0.838083\tvalid_1's rmse: 1.00032\n",
      "[5000]\ttraining's rmse: 0.808672\tvalid_1's rmse: 0.996528\n",
      "[6000]\ttraining's rmse: 0.782376\tvalid_1's rmse: 0.994147\n",
      "[7000]\ttraining's rmse: 0.759574\tvalid_1's rmse: 0.992788\n",
      "[8000]\ttraining's rmse: 0.738124\tvalid_1's rmse: 0.992182\n",
      "[9000]\ttraining's rmse: 0.717911\tvalid_1's rmse: 0.991506\n",
      "[10000]\ttraining's rmse: 0.696872\tvalid_1's rmse: 0.990549\n",
      "[11000]\ttraining's rmse: 0.678464\tvalid_1's rmse: 0.989931\n",
      "[12000]\ttraining's rmse: 0.660158\tvalid_1's rmse: 0.989781\n",
      "Early stopping, best iteration is:\n",
      "[11933]\ttraining's rmse: 0.661402\tvalid_1's rmse: 0.989726\n",
      "CPU times: user 52min 32s, sys: 5min 1s, total: 57min 34s\n",
      "Wall time: 20min 58s\n"
     ]
    }
   ],
   "source": [
    "%%time\n",
    "\n",
    "early_stop = 1000\n",
    "verbose_eval = 1000\n",
    "num_rounds = 60000\n",
    "    \n",
    "model, oof_train, oof_test = run_lgbm(lgbm_params, X_train_non_null, X_test_non_null)"
   ]
  },
  {
   "cell_type": "code",
   "execution_count": 68,
   "metadata": {},
   "outputs": [],
   "source": [
    "fold_importance_df = pd.DataFrame()\n",
    "fold_importance_df['feature'] = X_train_non_null.columns.values[1:]\n",
    "fold_importance_df['importance'] = model.feature_importance()"
   ]
  },
  {
   "cell_type": "code",
   "execution_count": 69,
   "metadata": {},
   "outputs": [
    {
     "data": {
      "text/html": [
       "<div>\n",
       "<style scoped>\n",
       "    .dataframe tbody tr th:only-of-type {\n",
       "        vertical-align: middle;\n",
       "    }\n",
       "\n",
       "    .dataframe tbody tr th {\n",
       "        vertical-align: top;\n",
       "    }\n",
       "\n",
       "    .dataframe thead th {\n",
       "        text-align: right;\n",
       "    }\n",
       "</style>\n",
       "<table border=\"1\" class=\"dataframe\">\n",
       "  <thead>\n",
       "    <tr style=\"text-align: right;\">\n",
       "      <th></th>\n",
       "      <th>feature</th>\n",
       "      <th>importance</th>\n",
       "    </tr>\n",
       "  </thead>\n",
       "  <tbody>\n",
       "    <tr>\n",
       "      <th>364</th>\n",
       "      <td>TFIDF_metadata_annots_top_desc_7</td>\n",
       "      <td>1878</td>\n",
       "    </tr>\n",
       "    <tr>\n",
       "      <th>126</th>\n",
       "      <td>IMG_SVD_6_MEAN</td>\n",
       "      <td>1797</td>\n",
       "    </tr>\n",
       "    <tr>\n",
       "      <th>341</th>\n",
       "      <td>TFIDF_Description_7</td>\n",
       "      <td>1762</td>\n",
       "    </tr>\n",
       "    <tr>\n",
       "      <th>380</th>\n",
       "      <td>image_size_max</td>\n",
       "      <td>1673</td>\n",
       "    </tr>\n",
       "    <tr>\n",
       "      <th>119</th>\n",
       "      <td>IMG_SVD_4_MAX</td>\n",
       "      <td>1438</td>\n",
       "    </tr>\n",
       "    <tr>\n",
       "      <th>338</th>\n",
       "      <td>TFIDF_Description_4</td>\n",
       "      <td>1408</td>\n",
       "    </tr>\n",
       "    <tr>\n",
       "      <th>128</th>\n",
       "      <td>IMG_SVD_7_MAX</td>\n",
       "      <td>1402</td>\n",
       "    </tr>\n",
       "    <tr>\n",
       "      <th>120</th>\n",
       "      <td>IMG_SVD_4_MEAN</td>\n",
       "      <td>1343</td>\n",
       "    </tr>\n",
       "    <tr>\n",
       "      <th>340</th>\n",
       "      <td>TFIDF_Description_6</td>\n",
       "      <td>1342</td>\n",
       "    </tr>\n",
       "    <tr>\n",
       "      <th>284</th>\n",
       "      <td>Rescuer_mean_IMG_SVD_0_MIN</td>\n",
       "      <td>1331</td>\n",
       "    </tr>\n",
       "    <tr>\n",
       "      <th>129</th>\n",
       "      <td>IMG_SVD_7_MEAN</td>\n",
       "      <td>1312</td>\n",
       "    </tr>\n",
       "    <tr>\n",
       "      <th>363</th>\n",
       "      <td>TFIDF_metadata_annots_top_desc_6</td>\n",
       "      <td>1275</td>\n",
       "    </tr>\n",
       "    <tr>\n",
       "      <th>360</th>\n",
       "      <td>TFIDF_metadata_annots_top_desc_3</td>\n",
       "      <td>1251</td>\n",
       "    </tr>\n",
       "    <tr>\n",
       "      <th>377</th>\n",
       "      <td>height_mean</td>\n",
       "      <td>1238</td>\n",
       "    </tr>\n",
       "    <tr>\n",
       "      <th>285</th>\n",
       "      <td>Rescuer_mean_IMG_SVD_1_MIN</td>\n",
       "      <td>1228</td>\n",
       "    </tr>\n",
       "    <tr>\n",
       "      <th>339</th>\n",
       "      <td>TFIDF_Description_5</td>\n",
       "      <td>1211</td>\n",
       "    </tr>\n",
       "    <tr>\n",
       "      <th>362</th>\n",
       "      <td>TFIDF_metadata_annots_top_desc_5</td>\n",
       "      <td>1203</td>\n",
       "    </tr>\n",
       "    <tr>\n",
       "      <th>283</th>\n",
       "      <td>RescuerID_mean_sentiment_score_mean</td>\n",
       "      <td>1193</td>\n",
       "    </tr>\n",
       "    <tr>\n",
       "      <th>287</th>\n",
       "      <td>Rescuer_mean_IMG_SVD_3_MIN</td>\n",
       "      <td>1192</td>\n",
       "    </tr>\n",
       "    <tr>\n",
       "      <th>371</th>\n",
       "      <td>TFIDF_sentiment_entities_6</td>\n",
       "      <td>1186</td>\n",
       "    </tr>\n",
       "    <tr>\n",
       "      <th>274</th>\n",
       "      <td>RescuerID_mean_Length_metadata_annots_top_desc</td>\n",
       "      <td>1183</td>\n",
       "    </tr>\n",
       "    <tr>\n",
       "      <th>366</th>\n",
       "      <td>TFIDF_sentiment_entities_1</td>\n",
       "      <td>1182</td>\n",
       "    </tr>\n",
       "    <tr>\n",
       "      <th>114</th>\n",
       "      <td>IMG_SVD_2_MEAN</td>\n",
       "      <td>1172</td>\n",
       "    </tr>\n",
       "    <tr>\n",
       "      <th>131</th>\n",
       "      <td>Length_Description</td>\n",
       "      <td>1160</td>\n",
       "    </tr>\n",
       "    <tr>\n",
       "      <th>391</th>\n",
       "      <td>metadata_color_pixelfrac_MIN</td>\n",
       "      <td>1155</td>\n",
       "    </tr>\n",
       "    <tr>\n",
       "      <th>279</th>\n",
       "      <td>RescuerID_mean_metadata_annots_score_MEAN</td>\n",
       "      <td>1143</td>\n",
       "    </tr>\n",
       "    <tr>\n",
       "      <th>280</th>\n",
       "      <td>RescuerID_mean_metadata_color_pixelfrac_MEAN</td>\n",
       "      <td>1130</td>\n",
       "    </tr>\n",
       "    <tr>\n",
       "      <th>125</th>\n",
       "      <td>IMG_SVD_6_MAX</td>\n",
       "      <td>1109</td>\n",
       "    </tr>\n",
       "    <tr>\n",
       "      <th>384</th>\n",
       "      <td>metadata_annots_score_MAX</td>\n",
       "      <td>1099</td>\n",
       "    </tr>\n",
       "    <tr>\n",
       "      <th>130</th>\n",
       "      <td>IMG_SVD_7_MIN</td>\n",
       "      <td>1088</td>\n",
       "    </tr>\n",
       "    <tr>\n",
       "      <th>...</th>\n",
       "      <td>...</td>\n",
       "      <td>...</td>\n",
       "    </tr>\n",
       "    <tr>\n",
       "      <th>316</th>\n",
       "      <td>State_mean_sentiment_score_mean</td>\n",
       "      <td>17</td>\n",
       "    </tr>\n",
       "    <tr>\n",
       "      <th>301</th>\n",
       "      <td>State_mean_Length_metadata_annots_top_desc</td>\n",
       "      <td>17</td>\n",
       "    </tr>\n",
       "    <tr>\n",
       "      <th>315</th>\n",
       "      <td>State_mean_sentiment_magnitude_mean</td>\n",
       "      <td>15</td>\n",
       "    </tr>\n",
       "    <tr>\n",
       "      <th>78</th>\n",
       "      <td>Color2_mean_IMG_SVD_1_MIN</td>\n",
       "      <td>14</td>\n",
       "    </tr>\n",
       "    <tr>\n",
       "      <th>308</th>\n",
       "      <td>State_mean_TFIDF_Description_3</td>\n",
       "      <td>14</td>\n",
       "    </tr>\n",
       "    <tr>\n",
       "      <th>87</th>\n",
       "      <td>Color2_mean_TFIDF_sentiment_entities_0</td>\n",
       "      <td>14</td>\n",
       "    </tr>\n",
       "    <tr>\n",
       "      <th>79</th>\n",
       "      <td>Color2_mean_IMG_SVD_2_MIN</td>\n",
       "      <td>14</td>\n",
       "    </tr>\n",
       "    <tr>\n",
       "      <th>92</th>\n",
       "      <td>Color2_mean_sentiment_magnitude_mean</td>\n",
       "      <td>13</td>\n",
       "    </tr>\n",
       "    <tr>\n",
       "      <th>291</th>\n",
       "      <td>State_COUNT</td>\n",
       "      <td>13</td>\n",
       "    </tr>\n",
       "    <tr>\n",
       "      <th>90</th>\n",
       "      <td>Color2_mean_metadata_color_pixelfrac_MEAN</td>\n",
       "      <td>12</td>\n",
       "    </tr>\n",
       "    <tr>\n",
       "      <th>68</th>\n",
       "      <td>Color1_mean_metadata_annots_score_MEAN</td>\n",
       "      <td>11</td>\n",
       "    </tr>\n",
       "    <tr>\n",
       "      <th>56</th>\n",
       "      <td>Color1_mean_IMG_SVD_0_MIN</td>\n",
       "      <td>10</td>\n",
       "    </tr>\n",
       "    <tr>\n",
       "      <th>83</th>\n",
       "      <td>Color2_mean_Lengths_sentiment_entities</td>\n",
       "      <td>10</td>\n",
       "    </tr>\n",
       "    <tr>\n",
       "      <th>80</th>\n",
       "      <td>Color2_mean_IMG_SVD_3_MIN</td>\n",
       "      <td>10</td>\n",
       "    </tr>\n",
       "    <tr>\n",
       "      <th>70</th>\n",
       "      <td>Color1_mean_metadata_color_score_MEAN</td>\n",
       "      <td>9</td>\n",
       "    </tr>\n",
       "    <tr>\n",
       "      <th>312</th>\n",
       "      <td>State_mean_metadata_annots_score_MEAN</td>\n",
       "      <td>8</td>\n",
       "    </tr>\n",
       "    <tr>\n",
       "      <th>72</th>\n",
       "      <td>Color1_mean_sentiment_score_mean</td>\n",
       "      <td>8</td>\n",
       "    </tr>\n",
       "    <tr>\n",
       "      <th>65</th>\n",
       "      <td>Color1_mean_TFIDF_metadata_annots_top_desc_0</td>\n",
       "      <td>6</td>\n",
       "    </tr>\n",
       "    <tr>\n",
       "      <th>32</th>\n",
       "      <td>Breed2_mean_IMG_SVD_1_MIN</td>\n",
       "      <td>5</td>\n",
       "    </tr>\n",
       "    <tr>\n",
       "      <th>319</th>\n",
       "      <td>TFIDF_BotCols_Description_0</td>\n",
       "      <td>3</td>\n",
       "    </tr>\n",
       "    <tr>\n",
       "      <th>82</th>\n",
       "      <td>Color2_mean_Length_metadata_annots_top_desc</td>\n",
       "      <td>3</td>\n",
       "    </tr>\n",
       "    <tr>\n",
       "      <th>86</th>\n",
       "      <td>Color2_mean_TFIDF_metadata_annots_top_desc_0</td>\n",
       "      <td>2</td>\n",
       "    </tr>\n",
       "    <tr>\n",
       "      <th>329</th>\n",
       "      <td>TFIDF_BotCols_sentiment_entities_0</td>\n",
       "      <td>0</td>\n",
       "    </tr>\n",
       "    <tr>\n",
       "      <th>356</th>\n",
       "      <td>TFIDF_TopCols_sentiment_entities_4</td>\n",
       "      <td>0</td>\n",
       "    </tr>\n",
       "    <tr>\n",
       "      <th>373</th>\n",
       "      <td>Type</td>\n",
       "      <td>0</td>\n",
       "    </tr>\n",
       "    <tr>\n",
       "      <th>333</th>\n",
       "      <td>TFIDF_BotCols_sentiment_entities_4</td>\n",
       "      <td>0</td>\n",
       "    </tr>\n",
       "    <tr>\n",
       "      <th>332</th>\n",
       "      <td>TFIDF_BotCols_sentiment_entities_3</td>\n",
       "      <td>0</td>\n",
       "    </tr>\n",
       "    <tr>\n",
       "      <th>355</th>\n",
       "      <td>TFIDF_TopCols_sentiment_entities_3</td>\n",
       "      <td>0</td>\n",
       "    </tr>\n",
       "    <tr>\n",
       "      <th>352</th>\n",
       "      <td>TFIDF_TopCols_sentiment_entities_0</td>\n",
       "      <td>0</td>\n",
       "    </tr>\n",
       "    <tr>\n",
       "      <th>330</th>\n",
       "      <td>TFIDF_BotCols_sentiment_entities_1</td>\n",
       "      <td>0</td>\n",
       "    </tr>\n",
       "  </tbody>\n",
       "</table>\n",
       "<p>411 rows × 2 columns</p>\n",
       "</div>"
      ],
      "text/plain": [
       "                                            feature  importance\n",
       "364                TFIDF_metadata_annots_top_desc_7        1878\n",
       "126                                  IMG_SVD_6_MEAN        1797\n",
       "341                             TFIDF_Description_7        1762\n",
       "380                                  image_size_max        1673\n",
       "119                                   IMG_SVD_4_MAX        1438\n",
       "338                             TFIDF_Description_4        1408\n",
       "128                                   IMG_SVD_7_MAX        1402\n",
       "120                                  IMG_SVD_4_MEAN        1343\n",
       "340                             TFIDF_Description_6        1342\n",
       "284                      Rescuer_mean_IMG_SVD_0_MIN        1331\n",
       "129                                  IMG_SVD_7_MEAN        1312\n",
       "363                TFIDF_metadata_annots_top_desc_6        1275\n",
       "360                TFIDF_metadata_annots_top_desc_3        1251\n",
       "377                                     height_mean        1238\n",
       "285                      Rescuer_mean_IMG_SVD_1_MIN        1228\n",
       "339                             TFIDF_Description_5        1211\n",
       "362                TFIDF_metadata_annots_top_desc_5        1203\n",
       "283             RescuerID_mean_sentiment_score_mean        1193\n",
       "287                      Rescuer_mean_IMG_SVD_3_MIN        1192\n",
       "371                      TFIDF_sentiment_entities_6        1186\n",
       "274  RescuerID_mean_Length_metadata_annots_top_desc        1183\n",
       "366                      TFIDF_sentiment_entities_1        1182\n",
       "114                                  IMG_SVD_2_MEAN        1172\n",
       "131                              Length_Description        1160\n",
       "391                    metadata_color_pixelfrac_MIN        1155\n",
       "279       RescuerID_mean_metadata_annots_score_MEAN        1143\n",
       "280    RescuerID_mean_metadata_color_pixelfrac_MEAN        1130\n",
       "125                                   IMG_SVD_6_MAX        1109\n",
       "384                       metadata_annots_score_MAX        1099\n",
       "130                                   IMG_SVD_7_MIN        1088\n",
       "..                                              ...         ...\n",
       "316                 State_mean_sentiment_score_mean          17\n",
       "301      State_mean_Length_metadata_annots_top_desc          17\n",
       "315             State_mean_sentiment_magnitude_mean          15\n",
       "78                        Color2_mean_IMG_SVD_1_MIN          14\n",
       "308                  State_mean_TFIDF_Description_3          14\n",
       "87           Color2_mean_TFIDF_sentiment_entities_0          14\n",
       "79                        Color2_mean_IMG_SVD_2_MIN          14\n",
       "92             Color2_mean_sentiment_magnitude_mean          13\n",
       "291                                     State_COUNT          13\n",
       "90        Color2_mean_metadata_color_pixelfrac_MEAN          12\n",
       "68           Color1_mean_metadata_annots_score_MEAN          11\n",
       "56                        Color1_mean_IMG_SVD_0_MIN          10\n",
       "83           Color2_mean_Lengths_sentiment_entities          10\n",
       "80                        Color2_mean_IMG_SVD_3_MIN          10\n",
       "70            Color1_mean_metadata_color_score_MEAN           9\n",
       "312           State_mean_metadata_annots_score_MEAN           8\n",
       "72                 Color1_mean_sentiment_score_mean           8\n",
       "65     Color1_mean_TFIDF_metadata_annots_top_desc_0           6\n",
       "32                        Breed2_mean_IMG_SVD_1_MIN           5\n",
       "319                     TFIDF_BotCols_Description_0           3\n",
       "82      Color2_mean_Length_metadata_annots_top_desc           3\n",
       "86     Color2_mean_TFIDF_metadata_annots_top_desc_0           2\n",
       "329              TFIDF_BotCols_sentiment_entities_0           0\n",
       "356              TFIDF_TopCols_sentiment_entities_4           0\n",
       "373                                            Type           0\n",
       "333              TFIDF_BotCols_sentiment_entities_4           0\n",
       "332              TFIDF_BotCols_sentiment_entities_3           0\n",
       "355              TFIDF_TopCols_sentiment_entities_3           0\n",
       "352              TFIDF_TopCols_sentiment_entities_0           0\n",
       "330              TFIDF_BotCols_sentiment_entities_1           0\n",
       "\n",
       "[411 rows x 2 columns]"
      ]
     },
     "execution_count": 69,
     "metadata": {},
     "output_type": "execute_result"
    }
   ],
   "source": [
    "fold_importance_df.groupby('feature')['feature', 'importance'].mean().reset_index().sort_values(\n",
    "        'importance', ascending=False)#[90:]"
   ]
  },
  {
   "cell_type": "code",
   "execution_count": 73,
   "metadata": {},
   "outputs": [
    {
     "data": {
      "image/png": "[encoded data removed]",
      "text/plain": [
       "<matplotlib.figure.Figure at 0x132f5bf60>"
      ]
     },
     "metadata": {
      "needs_background": "light"
     },
     "output_type": "display_data"
    }
   ],
   "source": [
    "plot_pred(oof_train)"
   ]
  },
  {
   "cell_type": "code",
   "execution_count": 74,
   "metadata": {},
   "outputs": [
    {
     "data": {
      "image/png": "[encoded data removed]",
      "text/plain": [
       "<matplotlib.figure.Figure at 0x14308fe48>"
      ]
     },
     "metadata": {
      "needs_background": "light"
     },
     "output_type": "display_data"
    }
   ],
   "source": [
    "plot_pred(oof_test.mean(axis=1))"
   ]
  },
  {
   "cell_type": "code",
   "execution_count": 71,
   "metadata": {
    "_uuid": "46f205e208f24ae1b7207a3f8663c5dfd5ce0ebc"
   },
   "outputs": [
    {
     "name": "stdout",
     "output_type": "stream",
     "text": [
      "QWK =  0.5341874809365132\n"
     ]
    }
   ],
   "source": [
    "optR = OptimizedRounder_v3()\n",
    "optR.fit(oof_train, X_train_non_null['AdoptionSpeed'].values)\n",
    "coefficients = optR.coefficients()\n",
    "valid_pred = optR.predict(oof_train, coefficients)\n",
    "qwk = quadratic_weighted_kappa(X_train_non_null['AdoptionSpeed'].values, valid_pred)\n",
    "print(\"QWK = \", qwk)"
   ]
  },
  {
   "cell_type": "code",
   "execution_count": 75,
   "metadata": {},
   "outputs": [
    {
     "data": {
      "text/plain": [
       "array([1.3348146 , 2.02029606, 2.49295817, 3.04122789])"
      ]
     },
     "execution_count": 75,
     "metadata": {},
     "output_type": "execute_result"
    }
   ],
   "source": [
    "coefficients"
   ]
  },
  {
   "cell_type": "code",
   "execution_count": 76,
   "metadata": {
    "_uuid": "0903cc02a1856f9fb0aa8eff9f0532f29f0d6b7e"
   },
   "outputs": [
    {
     "name": "stdout",
     "output_type": "stream",
     "text": [
      "train pred distribution: Counter({3: 4087, 2: 4059, 4: 3333, 1: 3099, 0: 415})\n",
      "test pred distribution: Counter({3: 1212, 2: 1031, 1: 837, 4: 799, 0: 69})\n"
     ]
    }
   ],
   "source": [
    "coefficients_ = coefficients.copy()\n",
    "train_predictions = optR.predict(oof_train, coefficients_).astype(np.int8)\n",
    "print(f'train pred distribution: {Counter(train_predictions)}')\n",
    "test_predictions = optR.predict(oof_test.mean(axis=1), coefficients_).astype(np.int8)\n",
    "print(f'test pred distribution: {Counter(test_predictions)}')\n",
    "\n",
    "train_meta_df['LGB']=oof_train\n",
    "test_meta_all_df['LGB']=oof_test.mean(axis=1)"
   ]
  },
  {
   "cell_type": "code",
   "execution_count": null,
   "metadata": {
    "scrolled": false
   },
   "outputs": [],
   "source": [
    "plt.hist(train_predictions, bins=50)\n",
    "plt.title(\"Test: Boundary-based Predictions\")\n",
    "plt.show();\n",
    "\n",
    "plt.hist(test_predictions, bins=50)\n",
    "plt.title(\"Test: Boundary-based Predictions\")\n",
    "plt.show();"
   ]
  },
  {
   "cell_type": "code",
   "execution_count": null,
   "metadata": {},
   "outputs": [],
   "source": []
  },
  {
   "cell_type": "code",
   "execution_count": null,
   "metadata": {
    "_uuid": "cd8cb5999d506cf7d9d284afc4804d3cc5e8eb16"
   },
   "outputs": [],
   "source": [
    "submission = pd.DataFrame({'PetID': test['PetID'].values, 'AdoptionSpeed': test_predictions})\n",
    "submission.to_csv('submission.csv', index=False)\n",
    "submission.head()"
   ]
  },
  {
   "cell_type": "code",
   "execution_count": null,
   "metadata": {},
   "outputs": [],
   "source": []
  }
 ],
 "metadata": {
  "kernelspec": {
   "display_name": "Python 3",
   "language": "python",
   "name": "python3"
  },
  "language_info": {
   "codemirror_mode": {
    "name": "ipython",
    "version": 3
   },
   "file_extension": ".py",
   "mimetype": "text/x-python",
   "name": "python",
   "nbconvert_exporter": "python",
   "pygments_lexer": "ipython3",
   "version": "3.6.4"
  }
 },
 "nbformat": 4,
 "nbformat_minor": 1
}
